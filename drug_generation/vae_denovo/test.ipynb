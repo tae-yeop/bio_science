{
 "cells": [
  {
   "cell_type": "code",
   "execution_count": 1,
   "id": "084f82c7",
   "metadata": {},
   "outputs": [],
   "source": [
    "import torch"
   ]
  },
  {
   "cell_type": "code",
   "execution_count": 2,
   "id": "b6ec1880",
   "metadata": {},
   "outputs": [],
   "source": [
    "import pandas as pd"
   ]
  },
  {
   "cell_type": "code",
   "execution_count": 3,
   "id": "39a4a40f",
   "metadata": {},
   "outputs": [],
   "source": [
    "data = pd.read_csv('/home/bio_science/drug_generation/vae_denovo/data/zinc_250k_splits.csv')"
   ]
  },
  {
   "cell_type": "code",
   "execution_count": 16,
   "id": "37863f5c",
   "metadata": {},
   "outputs": [
    {
     "data": {
      "text/plain": [
       "'CC1CC(C)CC(Nc2cncc(-c3nncn3C)c2)C1'"
      ]
     },
     "execution_count": 16,
     "metadata": {},
     "output_type": "execute_result"
    }
   ],
   "source": [
    "data.iloc[1]['smiles']"
   ]
  },
  {
   "cell_type": "code",
   "execution_count": 17,
   "id": "362e6ea5",
   "metadata": {},
   "outputs": [],
   "source": [
    "from rdkit import Chem"
   ]
  },
  {
   "cell_type": "code",
   "execution_count": 18,
   "id": "91ac59eb",
   "metadata": {},
   "outputs": [],
   "source": [
    "mol = Chem.MolFromSmiles(data.iloc[1]['smiles'])"
   ]
  },
  {
   "cell_type": "code",
   "execution_count": 19,
   "id": "8bd7cd1b",
   "metadata": {},
   "outputs": [],
   "source": [
    "from torch_geometric.utils import from_smiles"
   ]
  },
  {
   "cell_type": "code",
   "execution_count": 20,
   "id": "0ae52e8b",
   "metadata": {},
   "outputs": [],
   "source": [
    "d = from_smiles(data.iloc[1]['smiles'])"
   ]
  },
  {
   "cell_type": "code",
   "execution_count": 21,
   "id": "ccf7f8fe",
   "metadata": {},
   "outputs": [
    {
     "data": {
      "text/plain": [
       "Data(x=[21, 9], edge_index=[2, 46], edge_attr=[46, 3], smiles='CC1CC(C)CC(Nc2cncc(-c3nncn3C)c2)C1')"
      ]
     },
     "execution_count": 21,
     "metadata": {},
     "output_type": "execute_result"
    }
   ],
   "source": [
    "d"
   ]
  },
  {
   "cell_type": "code",
   "execution_count": 14,
   "id": "0c904409",
   "metadata": {},
   "outputs": [],
   "source": [
    "from torch_geometric.nn import GCNConv, global_mean_pool"
   ]
  },
  {
   "cell_type": "code",
   "execution_count": 15,
   "id": "64cdf9f0",
   "metadata": {},
   "outputs": [
    {
     "data": {
      "text/plain": [
       "(24, 24)"
      ]
     },
     "execution_count": 15,
     "metadata": {},
     "output_type": "execute_result"
    }
   ],
   "source": [
    "d.size()"
   ]
  },
  {
   "cell_type": "code",
   "execution_count": 22,
   "id": "d9e657df",
   "metadata": {},
   "outputs": [],
   "source": [
    "layer = GCNConv(24, 32)"
   ]
  },
  {
   "cell_type": "code",
   "execution_count": 25,
   "id": "3b5f17eb",
   "metadata": {},
   "outputs": [
    {
     "ename": "RuntimeError",
     "evalue": "Found dtype Long but expected Float",
     "output_type": "error",
     "traceback": [
      "\u001b[0;31m---------------------------------------------------------------------------\u001b[0m",
      "\u001b[0;31mRuntimeError\u001b[0m                              Traceback (most recent call last)",
      "Cell \u001b[0;32mIn[25], line 1\u001b[0m\n\u001b[0;32m----> 1\u001b[0m \u001b[43mlayer\u001b[49m\u001b[43m(\u001b[49m\u001b[43md\u001b[49m\u001b[38;5;241;43m.\u001b[39;49m\u001b[43mx\u001b[49m\u001b[43m,\u001b[49m\u001b[43m \u001b[49m\u001b[43md\u001b[49m\u001b[38;5;241;43m.\u001b[39;49m\u001b[43medge_index\u001b[49m\u001b[43m)\u001b[49m\n",
      "File \u001b[0;32m/opt/conda/lib/python3.10/site-packages/torch/nn/modules/module.py:1736\u001b[0m, in \u001b[0;36mModule._wrapped_call_impl\u001b[0;34m(self, *args, **kwargs)\u001b[0m\n\u001b[1;32m   1734\u001b[0m     \u001b[38;5;28;01mreturn\u001b[39;00m \u001b[38;5;28mself\u001b[39m\u001b[38;5;241m.\u001b[39m_compiled_call_impl(\u001b[38;5;241m*\u001b[39margs, \u001b[38;5;241m*\u001b[39m\u001b[38;5;241m*\u001b[39mkwargs)  \u001b[38;5;66;03m# type: ignore[misc]\u001b[39;00m\n\u001b[1;32m   1735\u001b[0m \u001b[38;5;28;01melse\u001b[39;00m:\n\u001b[0;32m-> 1736\u001b[0m     \u001b[38;5;28;01mreturn\u001b[39;00m \u001b[38;5;28;43mself\u001b[39;49m\u001b[38;5;241;43m.\u001b[39;49m\u001b[43m_call_impl\u001b[49m\u001b[43m(\u001b[49m\u001b[38;5;241;43m*\u001b[39;49m\u001b[43margs\u001b[49m\u001b[43m,\u001b[49m\u001b[43m \u001b[49m\u001b[38;5;241;43m*\u001b[39;49m\u001b[38;5;241;43m*\u001b[39;49m\u001b[43mkwargs\u001b[49m\u001b[43m)\u001b[49m\n",
      "File \u001b[0;32m/opt/conda/lib/python3.10/site-packages/torch/nn/modules/module.py:1747\u001b[0m, in \u001b[0;36mModule._call_impl\u001b[0;34m(self, *args, **kwargs)\u001b[0m\n\u001b[1;32m   1742\u001b[0m \u001b[38;5;66;03m# If we don't have any hooks, we want to skip the rest of the logic in\u001b[39;00m\n\u001b[1;32m   1743\u001b[0m \u001b[38;5;66;03m# this function, and just call forward.\u001b[39;00m\n\u001b[1;32m   1744\u001b[0m \u001b[38;5;28;01mif\u001b[39;00m \u001b[38;5;129;01mnot\u001b[39;00m (\u001b[38;5;28mself\u001b[39m\u001b[38;5;241m.\u001b[39m_backward_hooks \u001b[38;5;129;01mor\u001b[39;00m \u001b[38;5;28mself\u001b[39m\u001b[38;5;241m.\u001b[39m_backward_pre_hooks \u001b[38;5;129;01mor\u001b[39;00m \u001b[38;5;28mself\u001b[39m\u001b[38;5;241m.\u001b[39m_forward_hooks \u001b[38;5;129;01mor\u001b[39;00m \u001b[38;5;28mself\u001b[39m\u001b[38;5;241m.\u001b[39m_forward_pre_hooks\n\u001b[1;32m   1745\u001b[0m         \u001b[38;5;129;01mor\u001b[39;00m _global_backward_pre_hooks \u001b[38;5;129;01mor\u001b[39;00m _global_backward_hooks\n\u001b[1;32m   1746\u001b[0m         \u001b[38;5;129;01mor\u001b[39;00m _global_forward_hooks \u001b[38;5;129;01mor\u001b[39;00m _global_forward_pre_hooks):\n\u001b[0;32m-> 1747\u001b[0m     \u001b[38;5;28;01mreturn\u001b[39;00m \u001b[43mforward_call\u001b[49m\u001b[43m(\u001b[49m\u001b[38;5;241;43m*\u001b[39;49m\u001b[43margs\u001b[49m\u001b[43m,\u001b[49m\u001b[43m \u001b[49m\u001b[38;5;241;43m*\u001b[39;49m\u001b[38;5;241;43m*\u001b[39;49m\u001b[43mkwargs\u001b[49m\u001b[43m)\u001b[49m\n\u001b[1;32m   1749\u001b[0m result \u001b[38;5;241m=\u001b[39m \u001b[38;5;28;01mNone\u001b[39;00m\n\u001b[1;32m   1750\u001b[0m called_always_called_hooks \u001b[38;5;241m=\u001b[39m \u001b[38;5;28mset\u001b[39m()\n",
      "File \u001b[0;32m/opt/conda/lib/python3.10/site-packages/torch_geometric/nn/conv/gcn_conv.py:241\u001b[0m, in \u001b[0;36mGCNConv.forward\u001b[0;34m(self, x, edge_index, edge_weight)\u001b[0m\n\u001b[1;32m    239\u001b[0m cache \u001b[38;5;241m=\u001b[39m \u001b[38;5;28mself\u001b[39m\u001b[38;5;241m.\u001b[39m_cached_edge_index\n\u001b[1;32m    240\u001b[0m \u001b[38;5;28;01mif\u001b[39;00m cache \u001b[38;5;129;01mis\u001b[39;00m \u001b[38;5;28;01mNone\u001b[39;00m:\n\u001b[0;32m--> 241\u001b[0m     edge_index, edge_weight \u001b[38;5;241m=\u001b[39m \u001b[43mgcn_norm\u001b[49m\u001b[43m(\u001b[49m\u001b[43m  \u001b[49m\u001b[38;5;66;43;03m# yapf: disable\u001b[39;49;00m\n\u001b[1;32m    242\u001b[0m \u001b[43m        \u001b[49m\u001b[43medge_index\u001b[49m\u001b[43m,\u001b[49m\u001b[43m \u001b[49m\u001b[43medge_weight\u001b[49m\u001b[43m,\u001b[49m\u001b[43m \u001b[49m\u001b[43mx\u001b[49m\u001b[38;5;241;43m.\u001b[39;49m\u001b[43msize\u001b[49m\u001b[43m(\u001b[49m\u001b[38;5;28;43mself\u001b[39;49m\u001b[38;5;241;43m.\u001b[39;49m\u001b[43mnode_dim\u001b[49m\u001b[43m)\u001b[49m\u001b[43m,\u001b[49m\n\u001b[1;32m    243\u001b[0m \u001b[43m        \u001b[49m\u001b[38;5;28;43mself\u001b[39;49m\u001b[38;5;241;43m.\u001b[39;49m\u001b[43mimproved\u001b[49m\u001b[43m,\u001b[49m\u001b[43m \u001b[49m\u001b[38;5;28;43mself\u001b[39;49m\u001b[38;5;241;43m.\u001b[39;49m\u001b[43madd_self_loops\u001b[49m\u001b[43m,\u001b[49m\u001b[43m \u001b[49m\u001b[38;5;28;43mself\u001b[39;49m\u001b[38;5;241;43m.\u001b[39;49m\u001b[43mflow\u001b[49m\u001b[43m,\u001b[49m\u001b[43m \u001b[49m\u001b[43mx\u001b[49m\u001b[38;5;241;43m.\u001b[39;49m\u001b[43mdtype\u001b[49m\u001b[43m)\u001b[49m\n\u001b[1;32m    244\u001b[0m     \u001b[38;5;28;01mif\u001b[39;00m \u001b[38;5;28mself\u001b[39m\u001b[38;5;241m.\u001b[39mcached:\n\u001b[1;32m    245\u001b[0m         \u001b[38;5;28mself\u001b[39m\u001b[38;5;241m.\u001b[39m_cached_edge_index \u001b[38;5;241m=\u001b[39m (edge_index, edge_weight)\n",
      "File \u001b[0;32m/opt/conda/lib/python3.10/site-packages/torch_geometric/nn/conv/gcn_conv.py:109\u001b[0m, in \u001b[0;36mgcn_norm\u001b[0;34m(edge_index, edge_weight, num_nodes, improved, add_self_loops, flow, dtype)\u001b[0m\n\u001b[1;32m    107\u001b[0m idx \u001b[38;5;241m=\u001b[39m col \u001b[38;5;28;01mif\u001b[39;00m flow \u001b[38;5;241m==\u001b[39m \u001b[38;5;124m'\u001b[39m\u001b[38;5;124msource_to_target\u001b[39m\u001b[38;5;124m'\u001b[39m \u001b[38;5;28;01melse\u001b[39;00m row\n\u001b[1;32m    108\u001b[0m deg \u001b[38;5;241m=\u001b[39m scatter(edge_weight, idx, dim\u001b[38;5;241m=\u001b[39m\u001b[38;5;241m0\u001b[39m, dim_size\u001b[38;5;241m=\u001b[39mnum_nodes, reduce\u001b[38;5;241m=\u001b[39m\u001b[38;5;124m'\u001b[39m\u001b[38;5;124msum\u001b[39m\u001b[38;5;124m'\u001b[39m)\n\u001b[0;32m--> 109\u001b[0m deg_inv_sqrt \u001b[38;5;241m=\u001b[39m \u001b[43mdeg\u001b[49m\u001b[38;5;241;43m.\u001b[39;49m\u001b[43mpow_\u001b[49m\u001b[43m(\u001b[49m\u001b[38;5;241;43m-\u001b[39;49m\u001b[38;5;241;43m0.5\u001b[39;49m\u001b[43m)\u001b[49m\n\u001b[1;32m    110\u001b[0m deg_inv_sqrt\u001b[38;5;241m.\u001b[39mmasked_fill_(deg_inv_sqrt \u001b[38;5;241m==\u001b[39m \u001b[38;5;28mfloat\u001b[39m(\u001b[38;5;124m'\u001b[39m\u001b[38;5;124minf\u001b[39m\u001b[38;5;124m'\u001b[39m), \u001b[38;5;241m0\u001b[39m)\n\u001b[1;32m    111\u001b[0m edge_weight \u001b[38;5;241m=\u001b[39m deg_inv_sqrt[row] \u001b[38;5;241m*\u001b[39m edge_weight \u001b[38;5;241m*\u001b[39m deg_inv_sqrt[col]\n",
      "\u001b[0;31mRuntimeError\u001b[0m: Found dtype Long but expected Float"
     ]
    }
   ],
   "source": [
    "layer(d.x, d.edge_index)"
   ]
  },
  {
   "cell_type": "code",
   "execution_count": 56,
   "id": "c2823658",
   "metadata": {},
   "outputs": [],
   "source": [
    "import argparse\n",
    "import math\n",
    "from pathlib import Path\n",
    "\n",
    "import pandas as pd\n",
    "import torch\n",
    "import torch.nn as nn\n",
    "import torch.nn.functional as F\n",
    "from torch_geometric.data import Data, Dataset\n",
    "from torch_geometric.loader import DataLoader\n",
    "from torch_geometric.data import Batch\n",
    "from torch_geometric.nn import GCNConv, global_mean_pool\n",
    "from rdkit import Chem\n",
    "from rdkit.Chem import AllChem\n",
    "from torch_geometric.utils import from_smiles\n",
    "\n",
    "\n",
    "class SmilesDataset(Dataset):\n",
    "    \"\"\"Read a CSV and convert each SMILES to a PyG graph Data object.\"\"\"\n",
    "\n",
    "    def __init__(self, csv_path: str, transform=None):\n",
    "        super().__init__(transform=transform)\n",
    "        self.df = pd.read_csv(csv_path)\n",
    "        if \"smiles\" not in self.df.columns:\n",
    "            raise ValueError(\"CSV must contain a 'smiles' column\")\n",
    "\n",
    "    def len(self):\n",
    "        return len(self.df)\n",
    "\n",
    "    def get(self, idx):\n",
    "        smiles = self.df.iloc[idx][\"smiles\"]\n",
    "        mol = Chem.MolFromSmiles(smiles)\n",
    "        if mol is None:\n",
    "            raise ValueError(f\"Invalid SMILES at idx {idx}: {smiles}\")\n",
    "        # Convert to a torch_geometric Data object\n",
    "        data = from_smiles(smiles)\n",
    "\n",
    "        # Global graph‑level feature: Morgan fingerprint (2048‑bit)\n",
    "        fp = AllChem.GetMorganFingerprintAsBitVect(mol, radius=2, nBits=2048)\n",
    "        fp = torch.tensor(fp, dtype=torch.float)\n",
    "        data.y = fp  # store reconstruction target on graph level\n",
    "        return data\n",
    "\n",
    "\n",
    "    def collate_fn(self, batch):\n",
    "        batch = Batch.from_data_list(batch)\n",
    "        batch.x = batch.x.float()\n",
    "        if batch.edge_attr is not None:\n",
    "            batch.edge_attr = batch.edge_attr.float()\n",
    "        return batch"
   ]
  },
  {
   "cell_type": "code",
   "execution_count": 47,
   "id": "3e909d93",
   "metadata": {},
   "outputs": [],
   "source": [
    "def collate_float(batch):\n",
    "    print(\"=== collate_float called ===\") \n",
    "    batch = Batch.from_data_list(batch)\n",
    "    batch.x = batch.x.float()\n",
    "    if batch.edge_attr is not None:\n",
    "        batch.edge_attr = batch.edge_attr.float()\n",
    "    return batch"
   ]
  },
  {
   "cell_type": "code",
   "execution_count": 57,
   "id": "b7a94b33",
   "metadata": {},
   "outputs": [],
   "source": [
    "def to_float(data: Data) -> Data:\n",
    "    if data.x is not None:\n",
    "        data.x = data.x.float()\n",
    "    if data.edge_attr is not None:\n",
    "        data.edge_attr = data.edge_attr.float()\n",
    "    return data"
   ]
  },
  {
   "cell_type": "code",
   "execution_count": 58,
   "id": "7ccca4ed",
   "metadata": {},
   "outputs": [],
   "source": [
    "dataset = SmilesDataset('/home/bio_science/drug_generation/vae_denovo/data/zinc_250k_splits.csv', transform=to_float)"
   ]
  },
  {
   "cell_type": "code",
   "execution_count": 36,
   "id": "f1f3b702",
   "metadata": {},
   "outputs": [],
   "source": [
    "from torch_geometric.loader import DataLoader as GeoLoader"
   ]
  },
  {
   "cell_type": "code",
   "execution_count": 59,
   "id": "d6075916",
   "metadata": {},
   "outputs": [],
   "source": [
    "dl = GeoLoader(dataset, batch_size=32, shuffle=True)"
   ]
  },
  {
   "cell_type": "code",
   "execution_count": 51,
   "id": "87175e59",
   "metadata": {},
   "outputs": [
    {
     "name": "stdout",
     "output_type": "stream",
     "text": [
      "<class 'torch_geometric.loader.dataloader.DataLoader'> torch_geometric.loader.dataloader\n"
     ]
    }
   ],
   "source": [
    "print(dl.__class__, dl.__class__.__module__)"
   ]
  },
  {
   "cell_type": "code",
   "execution_count": 53,
   "id": "effcdafa",
   "metadata": {},
   "outputs": [
    {
     "name": "stdout",
     "output_type": "stream",
     "text": [
      "Loader.collate_fn: <torch_geometric.loader.dataloader.Collater object at 0x7f82fd1b57e0>\n"
     ]
    }
   ],
   "source": [
    "print(\"Loader.collate_fn:\", dl.collate_fn)"
   ]
  },
  {
   "cell_type": "code",
   "execution_count": 55,
   "id": "8c37c9dd",
   "metadata": {},
   "outputs": [
    {
     "name": "stdout",
     "output_type": "stream",
     "text": [
      "2.6.1\n"
     ]
    }
   ],
   "source": [
    "import torch_geometric\n",
    "print(torch_geometric.__version__)"
   ]
  },
  {
   "cell_type": "code",
   "execution_count": 60,
   "id": "97c1caf4",
   "metadata": {},
   "outputs": [
    {
     "name": "stdout",
     "output_type": "stream",
     "text": [
      "DataBatch(x=[740, 9], edge_index=[2, 1598], edge_attr=[1598, 3], smiles=[32], y=[65536], batch=[740], ptr=[33])\n"
     ]
    }
   ],
   "source": [
    "for data in dl:\n",
    "    print(data)\n",
    "    break"
   ]
  },
  {
   "cell_type": "code",
   "execution_count": 61,
   "id": "565f4b99",
   "metadata": {},
   "outputs": [
    {
     "data": {
      "text/plain": [
       "DataBatch(x=[740, 9], edge_index=[2, 1598], edge_attr=[1598, 3], smiles=[32], y=[65536], batch=[740], ptr=[33])"
      ]
     },
     "execution_count": 61,
     "metadata": {},
     "output_type": "execute_result"
    }
   ],
   "source": [
    "data"
   ]
  },
  {
   "cell_type": "code",
   "execution_count": 62,
   "id": "ba41e785",
   "metadata": {},
   "outputs": [
    {
     "data": {
      "text/plain": [
       "torch.float32"
      ]
     },
     "execution_count": 62,
     "metadata": {},
     "output_type": "execute_result"
    }
   ],
   "source": [
    "data.x.dtype"
   ]
  },
  {
   "cell_type": "code",
   "execution_count": null,
   "id": "fb85bf93",
   "metadata": {},
   "outputs": [],
   "source": []
  },
  {
   "cell_type": "code",
   "execution_count": 41,
   "id": "940f480e",
   "metadata": {},
   "outputs": [
    {
     "data": {
      "text/plain": [
       "9"
      ]
     },
     "execution_count": 41,
     "metadata": {},
     "output_type": "execute_result"
    }
   ],
   "source": [
    "sample.x.size(1)"
   ]
  },
  {
   "cell_type": "code",
   "execution_count": 42,
   "id": "8499b09c",
   "metadata": {},
   "outputs": [],
   "source": [
    "conv1 = GCNConv(9, 32)"
   ]
  },
  {
   "cell_type": "code",
   "execution_count": 43,
   "id": "a462997a",
   "metadata": {},
   "outputs": [
    {
     "data": {
      "text/plain": [
       "Data(x=[21, 9], edge_index=[2, 46], edge_attr=[46, 3], smiles='CC1CC(C)CC(Nc2cncc(-c3nncn3C)c2)C1', y=[2048])"
      ]
     },
     "execution_count": 43,
     "metadata": {},
     "output_type": "execute_result"
    }
   ],
   "source": [
    "sample"
   ]
  },
  {
   "cell_type": "code",
   "execution_count": 7,
   "id": "c09c6ebb",
   "metadata": {},
   "outputs": [
    {
     "ename": "NameError",
     "evalue": "name 'conv1' is not defined",
     "output_type": "error",
     "traceback": [
      "\u001b[0;31m---------------------------------------------------------------------------\u001b[0m",
      "\u001b[0;31mNameError\u001b[0m                                 Traceback (most recent call last)",
      "Cell \u001b[0;32mIn[7], line 1\u001b[0m\n\u001b[0;32m----> 1\u001b[0m out \u001b[38;5;241m=\u001b[39m \u001b[43mconv1\u001b[49m(sample\u001b[38;5;241m.\u001b[39mx, sample\u001b[38;5;241m.\u001b[39medge_index)\n",
      "\u001b[0;31mNameError\u001b[0m: name 'conv1' is not defined"
     ]
    }
   ],
   "source": [
    "out = conv1(sample.x, sample.edge_index)"
   ]
  },
  {
   "cell_type": "code",
   "execution_count": 47,
   "id": "552be7d1",
   "metadata": {},
   "outputs": [
    {
     "data": {
      "text/plain": [
       "torch.Size([21, 32])"
      ]
     },
     "execution_count": 47,
     "metadata": {},
     "output_type": "execute_result"
    }
   ],
   "source": [
    "out.shape"
   ]
  },
  {
   "cell_type": "code",
   "execution_count": 8,
   "id": "1b875bbe",
   "metadata": {},
   "outputs": [],
   "source": [
    "class GNNEncoder(nn.Module):\n",
    "    def __init__(self, num_node_feats, hidden_dim=128, latent_dim=64):\n",
    "        super().__init__()\n",
    "        self.conv1 = GCNConv(num_node_feats, hidden_dim)\n",
    "        self.conv2 = GCNConv(hidden_dim, hidden_dim)\n",
    "        self.conv3 = GCNConv(hidden_dim, hidden_dim)\n",
    "        self.mu_lin = nn.Linear(hidden_dim, latent_dim)\n",
    "        self.logvar_lin = nn.Linear(hidden_dim, latent_dim)\n",
    "\n",
    "    def forward(self, x, edge_index, batch):\n",
    "        x = F.relu(self.conv1(x, edge_index))\n",
    "        x = F.relu(self.conv2(x, edge_index))\n",
    "        x = F.relu(self.conv3(x, edge_index))\n",
    "        x = global_mean_pool(x, batch)\n",
    "        mu = self.mu_lin(x)\n",
    "        logvar = self.logvar_lin(x)\n",
    "        return mu, logvar"
   ]
  },
  {
   "cell_type": "code",
   "execution_count": 9,
   "id": "8739b303",
   "metadata": {},
   "outputs": [],
   "source": [
    "class Decoder(nn.Module):\n",
    "    def __init__(self, latent_dim=64, out_dim=2048):\n",
    "        super().__init__()\n",
    "        self.lin1 = nn.Linear(latent_dim, 128)\n",
    "        self.lin2 = nn.Linear(128, 256)\n",
    "        self.lin3 = nn.Linear(256, out_dim)\n",
    "\n",
    "    def forward(self, x):\n",
    "        x = F.relu(self.lin1(x))\n",
    "        x = F.relu(self.lin2(x))\n",
    "        x = self.lin3(x)\n",
    "        return x"
   ]
  },
  {
   "cell_type": "code",
   "execution_count": null,
   "id": "699af28b",
   "metadata": {},
   "outputs": [],
   "source": [
    "class GraphVAE(nn.Module):\n",
    "    def __init__(self, cfg):\n",
    "        super().__init__()\n",
    "        self.cfg = cfg\n",
    "        \n",
    "        num_node_feats = cfg.num_node_feats\n",
    "        hidden_dim=cfg.hidden_dim\n",
    "        latent_dim=cfg.latent_dim\n",
    "\n",
    "        self.encoder = GNNEncoder(num_node_feats, hidden_dim, latent_dim)\n",
    "        self.decoder = Decoder(latent_dim, out_dim=2048)\n",
    "\n",
    "    def reparameterize(self, mu, logvar):\n",
    "        std = torch.exp(0.5 * logvar)\n",
    "        eps = torch.randn_like(std)\n",
    "        return mu + eps * std\n",
    "\n",
    "    def forward(self, data):\n",
    "        mu, logvar = self.encoder(data.x, data.edge_index, data.batch)\n",
    "        z = self.reparameterize(mu, logvar)\n",
    "        recon_y = self.decoder(z)\n",
    "        return recon_y, mu, logvar\n",
    "        "
   ]
  },
  {
   "cell_type": "code",
   "execution_count": 64,
   "id": "c9809646",
   "metadata": {},
   "outputs": [],
   "source": [
    "gvae = GraphVAE(9)"
   ]
  },
  {
   "cell_type": "code",
   "execution_count": 14,
   "id": "8a6d1086",
   "metadata": {},
   "outputs": [
    {
     "data": {
      "text/plain": [
       "tensor([[6, 0, 4,  ..., 4, 0, 0],\n",
       "        [6, 0, 4,  ..., 4, 0, 0],\n",
       "        [6, 0, 4,  ..., 4, 0, 0],\n",
       "        ...,\n",
       "        [6, 0, 3,  ..., 3, 0, 1],\n",
       "        [8, 0, 1,  ..., 3, 0, 0],\n",
       "        [7, 0, 3,  ..., 3, 0, 1]])"
      ]
     },
     "execution_count": 14,
     "metadata": {},
     "output_type": "execute_result"
    }
   ],
   "source": [
    "data.x"
   ]
  },
  {
   "cell_type": "code",
   "execution_count": 68,
   "id": "2f7c63d7",
   "metadata": {},
   "outputs": [],
   "source": [
    "a,b,c = gvae(data)"
   ]
  },
  {
   "cell_type": "code",
   "execution_count": 70,
   "id": "99ecdc3b",
   "metadata": {},
   "outputs": [
    {
     "data": {
      "text/plain": [
       "(torch.Size([32, 2048]), torch.Size([32, 64]), torch.Size([32, 64]))"
      ]
     },
     "execution_count": 70,
     "metadata": {},
     "output_type": "execute_result"
    }
   ],
   "source": [
    "a.shape, b.shape, c.shape"
   ]
  },
  {
   "cell_type": "code",
   "execution_count": null,
   "id": "f64adff6",
   "metadata": {},
   "outputs": [],
   "source": [
    "b.sh"
   ]
  },
  {
   "cell_type": "code",
   "execution_count": null,
   "id": "fbc22b50",
   "metadata": {},
   "outputs": [],
   "source": [
    "class VaeTrainer():\n",
    "    def __init__(self, cfg):\n",
    "        self.cfg = cfg\n",
    "\n",
    "    def _build_model(self):\n",
    "        if cfg.model == 'gnn':\n",
    "            self.model = GraphVAE(cfg)\n",
    "        else:\n",
    "            raise ValueError(f\"Unknown model: {cfg.model}\")\n",
    "\n",
    "        params_groups = [\n",
    "            {\"params\": self.model.parameters(), \"lr\": cfg.lr}\n",
    "        ]\n",
    "\n",
    "        if cfg.optimizer == 'adam':\n",
    "            self.optimizer = torch.optim.Adam(params_groups)\n",
    "        elif cfg.optimizer == 'sgd':\n",
    "            self.optimizer = torch.optim.SGD(params_groups)\n",
    "        else:\n",
    "            raise ValueError(f\"Unknown optimizer: {cfg.optimizer}\")\n",
    "\n",
    "    def train(self, train_dataloader, val_dataloader=None, test_dataloader=None):\n",
    "        self.model.train()\n",
    "        for epoch in range(self.epochs):\n",
    "            self.train_one_epoch(train_dataloader, val_dataloader)\n",
    "\n",
    "    def train_one_epoch(self, train_dataloader, val_dataloader=None):\n",
    "        total = 0.0\n",
    "        for idx, batch in enumerate(train_dataloader):\n",
    "            batch = batch.to(self.cfg.device, pin_memory=True, non_blocking=True)\n",
    "            self.optimizer.zero_grad()\n",
    "            recon, mu, logvar = self.model(batch)\n",
    "            loss = self.loss_fn(recon, batch.y.to(self.cfg.device), mu, logvar)\n",
    "            loss.backward()\n",
    "            self.optimizer.step()\n",
    "            total += loss.item()\n",
    "\n",
    "        return total / len(train_dataloader.dataset)\n",
    "\n",
    "\n",
    "    def loss_fn(self, recon, target, mu, logvar):\n",
    "        bce = F.binary_cross_entropy_with_logits(recon, target, reduction=\"sum\")\n",
    "        kl = -0.5 * torch.sum(1 + logvar - mu.pow(2) - logvar.exp())\n",
    "        return bce + kl"
   ]
  },
  {
   "cell_type": "code",
   "execution_count": null,
   "id": "f453ac2b",
   "metadata": {},
   "outputs": [],
   "source": []
  }
 ],
 "metadata": {
  "kernelspec": {
   "display_name": "Python 3 (ipykernel)",
   "language": "python",
   "name": "python3"
  },
  "language_info": {
   "codemirror_mode": {
    "name": "ipython",
    "version": 3
   },
   "file_extension": ".py",
   "mimetype": "text/x-python",
   "name": "python",
   "nbconvert_exporter": "python",
   "pygments_lexer": "ipython3",
   "version": "3.10.13"
  }
 },
 "nbformat": 4,
 "nbformat_minor": 5
}
