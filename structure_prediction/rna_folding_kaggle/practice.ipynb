{
 "cells": [
  {
   "cell_type": "code",
   "execution_count": 1,
   "id": "bcfeaf6c",
   "metadata": {},
   "outputs": [],
   "source": [
    "from datetime import datetime\n",
    "import pytz\n",
    "import Bio"
   ]
  },
  {
   "cell_type": "code",
   "execution_count": 2,
   "id": "1b52bec5",
   "metadata": {},
   "outputs": [],
   "source": [
    "import os,sys\n",
    "import pandas as pd\n",
    "\n",
    "pd.set_option('display.max_columns', 20) # 최대 20개의 컬럼만 표시\n",
    "pd.set_option('display.expand_frame_repr', False) # 넓은 DataFrame이 화면 너비를 초과하더라도 여러 줄로 wrapping 되지 않고, 가능한 한 한 줄에 모든 컬럼"
   ]
  },
  {
   "cell_type": "code",
   "execution_count": 3,
   "id": "1d571f68",
   "metadata": {},
   "outputs": [],
   "source": [
    "import numpy as np\n",
    "import torch\n",
    "import torch.nn as nn\n",
    "import torch.nn.functional as F\n",
    "from timeit import default_timer as timer\n",
    "import re\n",
    "import matplotlib \n",
    "import matplotlib.pyplot as plt"
   ]
  },
  {
   "cell_type": "code",
   "execution_count": 4,
   "id": "f0d15728",
   "metadata": {},
   "outputs": [],
   "source": [
    "valid_df = pd.read_csv(f'/home/bio_science/structure_prediction/rna_folding_kaggle/data/validation_sequences.csv')\n",
    "label_df = pd.read_csv('/home/bio_science/structure_prediction/rna_folding_kaggle/data/validation_labels.csv')"
   ]
  },
  {
   "cell_type": "code",
   "execution_count": 5,
   "id": "c960f0b2",
   "metadata": {},
   "outputs": [
    {
     "data": {
      "text/html": [
       "<div>\n",
       "<style scoped>\n",
       "    .dataframe tbody tr th:only-of-type {\n",
       "        vertical-align: middle;\n",
       "    }\n",
       "\n",
       "    .dataframe tbody tr th {\n",
       "        vertical-align: top;\n",
       "    }\n",
       "\n",
       "    .dataframe thead th {\n",
       "        text-align: right;\n",
       "    }\n",
       "</style>\n",
       "<table border=\"1\" class=\"dataframe\">\n",
       "  <thead>\n",
       "    <tr style=\"text-align: right;\">\n",
       "      <th></th>\n",
       "      <th>ID</th>\n",
       "      <th>resname</th>\n",
       "      <th>resid</th>\n",
       "      <th>x_1</th>\n",
       "      <th>y_1</th>\n",
       "      <th>z_1</th>\n",
       "      <th>x_2</th>\n",
       "      <th>y_2</th>\n",
       "      <th>z_2</th>\n",
       "      <th>x_3</th>\n",
       "      <th>...</th>\n",
       "      <th>z_37</th>\n",
       "      <th>x_38</th>\n",
       "      <th>y_38</th>\n",
       "      <th>z_38</th>\n",
       "      <th>x_39</th>\n",
       "      <th>y_39</th>\n",
       "      <th>z_39</th>\n",
       "      <th>x_40</th>\n",
       "      <th>y_40</th>\n",
       "      <th>z_40</th>\n",
       "    </tr>\n",
       "  </thead>\n",
       "  <tbody>\n",
       "    <tr>\n",
       "      <th>0</th>\n",
       "      <td>R1107_1</td>\n",
       "      <td>G</td>\n",
       "      <td>1</td>\n",
       "      <td>-5.499</td>\n",
       "      <td>8.520000</td>\n",
       "      <td>8.605000</td>\n",
       "      <td>-1.000000e+18</td>\n",
       "      <td>-1.000000e+18</td>\n",
       "      <td>-1.000000e+18</td>\n",
       "      <td>-1.000000e+18</td>\n",
       "      <td>...</td>\n",
       "      <td>-1.000000e+18</td>\n",
       "      <td>-1.000000e+18</td>\n",
       "      <td>-1.000000e+18</td>\n",
       "      <td>-1.000000e+18</td>\n",
       "      <td>-1.000000e+18</td>\n",
       "      <td>-1.000000e+18</td>\n",
       "      <td>-1.000000e+18</td>\n",
       "      <td>-1.000000e+18</td>\n",
       "      <td>-1.000000e+18</td>\n",
       "      <td>-1.000000e+18</td>\n",
       "    </tr>\n",
       "    <tr>\n",
       "      <th>1</th>\n",
       "      <td>R1107_2</td>\n",
       "      <td>G</td>\n",
       "      <td>2</td>\n",
       "      <td>-5.826</td>\n",
       "      <td>10.453000</td>\n",
       "      <td>14.010000</td>\n",
       "      <td>-1.000000e+18</td>\n",
       "      <td>-1.000000e+18</td>\n",
       "      <td>-1.000000e+18</td>\n",
       "      <td>-1.000000e+18</td>\n",
       "      <td>...</td>\n",
       "      <td>-1.000000e+18</td>\n",
       "      <td>-1.000000e+18</td>\n",
       "      <td>-1.000000e+18</td>\n",
       "      <td>-1.000000e+18</td>\n",
       "      <td>-1.000000e+18</td>\n",
       "      <td>-1.000000e+18</td>\n",
       "      <td>-1.000000e+18</td>\n",
       "      <td>-1.000000e+18</td>\n",
       "      <td>-1.000000e+18</td>\n",
       "      <td>-1.000000e+18</td>\n",
       "    </tr>\n",
       "    <tr>\n",
       "      <th>2</th>\n",
       "      <td>R1107_3</td>\n",
       "      <td>G</td>\n",
       "      <td>3</td>\n",
       "      <td>-5.849</td>\n",
       "      <td>14.768000</td>\n",
       "      <td>17.584999</td>\n",
       "      <td>-1.000000e+18</td>\n",
       "      <td>-1.000000e+18</td>\n",
       "      <td>-1.000000e+18</td>\n",
       "      <td>-1.000000e+18</td>\n",
       "      <td>...</td>\n",
       "      <td>-1.000000e+18</td>\n",
       "      <td>-1.000000e+18</td>\n",
       "      <td>-1.000000e+18</td>\n",
       "      <td>-1.000000e+18</td>\n",
       "      <td>-1.000000e+18</td>\n",
       "      <td>-1.000000e+18</td>\n",
       "      <td>-1.000000e+18</td>\n",
       "      <td>-1.000000e+18</td>\n",
       "      <td>-1.000000e+18</td>\n",
       "      <td>-1.000000e+18</td>\n",
       "    </tr>\n",
       "    <tr>\n",
       "      <th>3</th>\n",
       "      <td>R1107_4</td>\n",
       "      <td>G</td>\n",
       "      <td>4</td>\n",
       "      <td>-5.784</td>\n",
       "      <td>19.985001</td>\n",
       "      <td>18.666000</td>\n",
       "      <td>-1.000000e+18</td>\n",
       "      <td>-1.000000e+18</td>\n",
       "      <td>-1.000000e+18</td>\n",
       "      <td>-1.000000e+18</td>\n",
       "      <td>...</td>\n",
       "      <td>-1.000000e+18</td>\n",
       "      <td>-1.000000e+18</td>\n",
       "      <td>-1.000000e+18</td>\n",
       "      <td>-1.000000e+18</td>\n",
       "      <td>-1.000000e+18</td>\n",
       "      <td>-1.000000e+18</td>\n",
       "      <td>-1.000000e+18</td>\n",
       "      <td>-1.000000e+18</td>\n",
       "      <td>-1.000000e+18</td>\n",
       "      <td>-1.000000e+18</td>\n",
       "    </tr>\n",
       "    <tr>\n",
       "      <th>4</th>\n",
       "      <td>R1107_5</td>\n",
       "      <td>G</td>\n",
       "      <td>5</td>\n",
       "      <td>-5.755</td>\n",
       "      <td>25.533001</td>\n",
       "      <td>17.132999</td>\n",
       "      <td>-1.000000e+18</td>\n",
       "      <td>-1.000000e+18</td>\n",
       "      <td>-1.000000e+18</td>\n",
       "      <td>-1.000000e+18</td>\n",
       "      <td>...</td>\n",
       "      <td>-1.000000e+18</td>\n",
       "      <td>-1.000000e+18</td>\n",
       "      <td>-1.000000e+18</td>\n",
       "      <td>-1.000000e+18</td>\n",
       "      <td>-1.000000e+18</td>\n",
       "      <td>-1.000000e+18</td>\n",
       "      <td>-1.000000e+18</td>\n",
       "      <td>-1.000000e+18</td>\n",
       "      <td>-1.000000e+18</td>\n",
       "      <td>-1.000000e+18</td>\n",
       "    </tr>\n",
       "  </tbody>\n",
       "</table>\n",
       "<p>5 rows × 123 columns</p>\n",
       "</div>"
      ],
      "text/plain": [
       "        ID resname  resid    x_1        y_1        z_1           x_2           y_2           z_2           x_3  ...          z_37          x_38          y_38          z_38          x_39          y_39          z_39          x_40          y_40          z_40\n",
       "0  R1107_1       G      1 -5.499   8.520000   8.605000 -1.000000e+18 -1.000000e+18 -1.000000e+18 -1.000000e+18  ... -1.000000e+18 -1.000000e+18 -1.000000e+18 -1.000000e+18 -1.000000e+18 -1.000000e+18 -1.000000e+18 -1.000000e+18 -1.000000e+18 -1.000000e+18\n",
       "1  R1107_2       G      2 -5.826  10.453000  14.010000 -1.000000e+18 -1.000000e+18 -1.000000e+18 -1.000000e+18  ... -1.000000e+18 -1.000000e+18 -1.000000e+18 -1.000000e+18 -1.000000e+18 -1.000000e+18 -1.000000e+18 -1.000000e+18 -1.000000e+18 -1.000000e+18\n",
       "2  R1107_3       G      3 -5.849  14.768000  17.584999 -1.000000e+18 -1.000000e+18 -1.000000e+18 -1.000000e+18  ... -1.000000e+18 -1.000000e+18 -1.000000e+18 -1.000000e+18 -1.000000e+18 -1.000000e+18 -1.000000e+18 -1.000000e+18 -1.000000e+18 -1.000000e+18\n",
       "3  R1107_4       G      4 -5.784  19.985001  18.666000 -1.000000e+18 -1.000000e+18 -1.000000e+18 -1.000000e+18  ... -1.000000e+18 -1.000000e+18 -1.000000e+18 -1.000000e+18 -1.000000e+18 -1.000000e+18 -1.000000e+18 -1.000000e+18 -1.000000e+18 -1.000000e+18\n",
       "4  R1107_5       G      5 -5.755  25.533001  17.132999 -1.000000e+18 -1.000000e+18 -1.000000e+18 -1.000000e+18  ... -1.000000e+18 -1.000000e+18 -1.000000e+18 -1.000000e+18 -1.000000e+18 -1.000000e+18 -1.000000e+18 -1.000000e+18 -1.000000e+18 -1.000000e+18\n",
       "\n",
       "[5 rows x 123 columns]"
      ]
     },
     "execution_count": 5,
     "metadata": {},
     "output_type": "execute_result"
    }
   ],
   "source": [
    "label_df.head()"
   ]
  },
  {
   "cell_type": "code",
   "execution_count": 6,
   "id": "9f1b0b48",
   "metadata": {},
   "outputs": [],
   "source": [
    "label_df['target_id'] = label_df['ID'].apply(lambda x: '_'.join(x.split('_')[:-1]))"
   ]
  },
  {
   "cell_type": "code",
   "execution_count": 7,
   "id": "bee7b8b0",
   "metadata": {},
   "outputs": [
    {
     "data": {
      "text/html": [
       "<div>\n",
       "<style scoped>\n",
       "    .dataframe tbody tr th:only-of-type {\n",
       "        vertical-align: middle;\n",
       "    }\n",
       "\n",
       "    .dataframe tbody tr th {\n",
       "        vertical-align: top;\n",
       "    }\n",
       "\n",
       "    .dataframe thead th {\n",
       "        text-align: right;\n",
       "    }\n",
       "</style>\n",
       "<table border=\"1\" class=\"dataframe\">\n",
       "  <thead>\n",
       "    <tr style=\"text-align: right;\">\n",
       "      <th></th>\n",
       "      <th>ID</th>\n",
       "      <th>resname</th>\n",
       "      <th>resid</th>\n",
       "      <th>x_1</th>\n",
       "      <th>y_1</th>\n",
       "      <th>z_1</th>\n",
       "      <th>x_2</th>\n",
       "      <th>y_2</th>\n",
       "      <th>z_2</th>\n",
       "      <th>x_3</th>\n",
       "      <th>...</th>\n",
       "      <th>x_38</th>\n",
       "      <th>y_38</th>\n",
       "      <th>z_38</th>\n",
       "      <th>x_39</th>\n",
       "      <th>y_39</th>\n",
       "      <th>z_39</th>\n",
       "      <th>x_40</th>\n",
       "      <th>y_40</th>\n",
       "      <th>z_40</th>\n",
       "      <th>target_id</th>\n",
       "    </tr>\n",
       "  </thead>\n",
       "  <tbody>\n",
       "    <tr>\n",
       "      <th>0</th>\n",
       "      <td>R1107_1</td>\n",
       "      <td>G</td>\n",
       "      <td>1</td>\n",
       "      <td>-5.499</td>\n",
       "      <td>8.520000</td>\n",
       "      <td>8.605000</td>\n",
       "      <td>-1.000000e+18</td>\n",
       "      <td>-1.000000e+18</td>\n",
       "      <td>-1.000000e+18</td>\n",
       "      <td>-1.000000e+18</td>\n",
       "      <td>...</td>\n",
       "      <td>-1.000000e+18</td>\n",
       "      <td>-1.000000e+18</td>\n",
       "      <td>-1.000000e+18</td>\n",
       "      <td>-1.000000e+18</td>\n",
       "      <td>-1.000000e+18</td>\n",
       "      <td>-1.000000e+18</td>\n",
       "      <td>-1.000000e+18</td>\n",
       "      <td>-1.000000e+18</td>\n",
       "      <td>-1.000000e+18</td>\n",
       "      <td>R1107</td>\n",
       "    </tr>\n",
       "    <tr>\n",
       "      <th>1</th>\n",
       "      <td>R1107_2</td>\n",
       "      <td>G</td>\n",
       "      <td>2</td>\n",
       "      <td>-5.826</td>\n",
       "      <td>10.453000</td>\n",
       "      <td>14.010000</td>\n",
       "      <td>-1.000000e+18</td>\n",
       "      <td>-1.000000e+18</td>\n",
       "      <td>-1.000000e+18</td>\n",
       "      <td>-1.000000e+18</td>\n",
       "      <td>...</td>\n",
       "      <td>-1.000000e+18</td>\n",
       "      <td>-1.000000e+18</td>\n",
       "      <td>-1.000000e+18</td>\n",
       "      <td>-1.000000e+18</td>\n",
       "      <td>-1.000000e+18</td>\n",
       "      <td>-1.000000e+18</td>\n",
       "      <td>-1.000000e+18</td>\n",
       "      <td>-1.000000e+18</td>\n",
       "      <td>-1.000000e+18</td>\n",
       "      <td>R1107</td>\n",
       "    </tr>\n",
       "    <tr>\n",
       "      <th>2</th>\n",
       "      <td>R1107_3</td>\n",
       "      <td>G</td>\n",
       "      <td>3</td>\n",
       "      <td>-5.849</td>\n",
       "      <td>14.768000</td>\n",
       "      <td>17.584999</td>\n",
       "      <td>-1.000000e+18</td>\n",
       "      <td>-1.000000e+18</td>\n",
       "      <td>-1.000000e+18</td>\n",
       "      <td>-1.000000e+18</td>\n",
       "      <td>...</td>\n",
       "      <td>-1.000000e+18</td>\n",
       "      <td>-1.000000e+18</td>\n",
       "      <td>-1.000000e+18</td>\n",
       "      <td>-1.000000e+18</td>\n",
       "      <td>-1.000000e+18</td>\n",
       "      <td>-1.000000e+18</td>\n",
       "      <td>-1.000000e+18</td>\n",
       "      <td>-1.000000e+18</td>\n",
       "      <td>-1.000000e+18</td>\n",
       "      <td>R1107</td>\n",
       "    </tr>\n",
       "    <tr>\n",
       "      <th>3</th>\n",
       "      <td>R1107_4</td>\n",
       "      <td>G</td>\n",
       "      <td>4</td>\n",
       "      <td>-5.784</td>\n",
       "      <td>19.985001</td>\n",
       "      <td>18.666000</td>\n",
       "      <td>-1.000000e+18</td>\n",
       "      <td>-1.000000e+18</td>\n",
       "      <td>-1.000000e+18</td>\n",
       "      <td>-1.000000e+18</td>\n",
       "      <td>...</td>\n",
       "      <td>-1.000000e+18</td>\n",
       "      <td>-1.000000e+18</td>\n",
       "      <td>-1.000000e+18</td>\n",
       "      <td>-1.000000e+18</td>\n",
       "      <td>-1.000000e+18</td>\n",
       "      <td>-1.000000e+18</td>\n",
       "      <td>-1.000000e+18</td>\n",
       "      <td>-1.000000e+18</td>\n",
       "      <td>-1.000000e+18</td>\n",
       "      <td>R1107</td>\n",
       "    </tr>\n",
       "    <tr>\n",
       "      <th>4</th>\n",
       "      <td>R1107_5</td>\n",
       "      <td>G</td>\n",
       "      <td>5</td>\n",
       "      <td>-5.755</td>\n",
       "      <td>25.533001</td>\n",
       "      <td>17.132999</td>\n",
       "      <td>-1.000000e+18</td>\n",
       "      <td>-1.000000e+18</td>\n",
       "      <td>-1.000000e+18</td>\n",
       "      <td>-1.000000e+18</td>\n",
       "      <td>...</td>\n",
       "      <td>-1.000000e+18</td>\n",
       "      <td>-1.000000e+18</td>\n",
       "      <td>-1.000000e+18</td>\n",
       "      <td>-1.000000e+18</td>\n",
       "      <td>-1.000000e+18</td>\n",
       "      <td>-1.000000e+18</td>\n",
       "      <td>-1.000000e+18</td>\n",
       "      <td>-1.000000e+18</td>\n",
       "      <td>-1.000000e+18</td>\n",
       "      <td>R1107</td>\n",
       "    </tr>\n",
       "  </tbody>\n",
       "</table>\n",
       "<p>5 rows × 124 columns</p>\n",
       "</div>"
      ],
      "text/plain": [
       "        ID resname  resid    x_1        y_1        z_1           x_2           y_2           z_2           x_3  ...          x_38          y_38          z_38          x_39          y_39          z_39          x_40          y_40          z_40  target_id\n",
       "0  R1107_1       G      1 -5.499   8.520000   8.605000 -1.000000e+18 -1.000000e+18 -1.000000e+18 -1.000000e+18  ... -1.000000e+18 -1.000000e+18 -1.000000e+18 -1.000000e+18 -1.000000e+18 -1.000000e+18 -1.000000e+18 -1.000000e+18 -1.000000e+18      R1107\n",
       "1  R1107_2       G      2 -5.826  10.453000  14.010000 -1.000000e+18 -1.000000e+18 -1.000000e+18 -1.000000e+18  ... -1.000000e+18 -1.000000e+18 -1.000000e+18 -1.000000e+18 -1.000000e+18 -1.000000e+18 -1.000000e+18 -1.000000e+18 -1.000000e+18      R1107\n",
       "2  R1107_3       G      3 -5.849  14.768000  17.584999 -1.000000e+18 -1.000000e+18 -1.000000e+18 -1.000000e+18  ... -1.000000e+18 -1.000000e+18 -1.000000e+18 -1.000000e+18 -1.000000e+18 -1.000000e+18 -1.000000e+18 -1.000000e+18 -1.000000e+18      R1107\n",
       "3  R1107_4       G      4 -5.784  19.985001  18.666000 -1.000000e+18 -1.000000e+18 -1.000000e+18 -1.000000e+18  ... -1.000000e+18 -1.000000e+18 -1.000000e+18 -1.000000e+18 -1.000000e+18 -1.000000e+18 -1.000000e+18 -1.000000e+18 -1.000000e+18      R1107\n",
       "4  R1107_5       G      5 -5.755  25.533001  17.132999 -1.000000e+18 -1.000000e+18 -1.000000e+18 -1.000000e+18  ... -1.000000e+18 -1.000000e+18 -1.000000e+18 -1.000000e+18 -1.000000e+18 -1.000000e+18 -1.000000e+18 -1.000000e+18 -1.000000e+18      R1107\n",
       "\n",
       "[5 rows x 124 columns]"
      ]
     },
     "execution_count": 7,
     "metadata": {},
     "output_type": "execute_result"
    }
   ],
   "source": [
    "label_df.head()"
   ]
  },
  {
   "cell_type": "code",
   "execution_count": 8,
   "id": "8bd02b1e",
   "metadata": {},
   "outputs": [
    {
     "name": "stdout",
     "output_type": "stream",
     "text": [
      "len(valid_df) 12\n",
      "target_id                                                      R1107\n",
      "sequence           GGGGGCCACAGCAGAAGCGUUCACGUCGCAGCCCCUGUCAGCCAUU...\n",
      "temporal_cutoff                                           2022-05-28\n",
      "description        CPEB3 ribozyme\\nHuman\\nhuman CPEB3 HDV-like ri...\n",
      "all_sequences      >7QR4_1|Chain A|U1 small nuclear ribonucleopro...\n",
      "Name: 0, dtype: object\n",
      "\n"
     ]
    }
   ],
   "source": [
    "print('len(valid_df)',len(valid_df))\n",
    "print(valid_df.iloc[0])\n",
    "print('')"
   ]
  },
  {
   "cell_type": "code",
   "execution_count": 10,
   "id": "fa8fdfb5",
   "metadata": {},
   "outputs": [],
   "source": [
    "NUM_CONF=5\n",
    "MAX_LENGTH=480\n",
    "DEVICE='cuda'"
   ]
  },
  {
   "cell_type": "code",
   "execution_count": 12,
   "id": "25133c48",
   "metadata": {},
   "outputs": [],
   "source": [
    "from collections import defaultdict"
   ]
  },
  {
   "cell_type": "code",
   "execution_count": 13,
   "id": "d2352fc2",
   "metadata": {},
   "outputs": [],
   "source": [
    "tokens=defaultdict(lambda: 4)"
   ]
  },
  {
   "cell_type": "code",
   "execution_count": 15,
   "id": "49257036",
   "metadata": {},
   "outputs": [],
   "source": [
    "tokens['A'] = 0"
   ]
  },
  {
   "cell_type": "code",
   "execution_count": 18,
   "id": "959f9240",
   "metadata": {},
   "outputs": [],
   "source": [
    "tokens['B'] = 1"
   ]
  },
  {
   "cell_type": "code",
   "execution_count": 19,
   "id": "84e4ecf4",
   "metadata": {},
   "outputs": [
    {
     "data": {
      "text/plain": [
       "(0, 1)"
      ]
     },
     "execution_count": 19,
     "metadata": {},
     "output_type": "execute_result"
    }
   ],
   "source": [
    "tokens['A'], tokens['B']"
   ]
  },
  {
   "cell_type": "code",
   "execution_count": 2,
   "id": "cd7d5303",
   "metadata": {},
   "outputs": [],
   "source": [
    "import pandas as pd"
   ]
  },
  {
   "cell_type": "code",
   "execution_count": 3,
   "id": "4f3b126d",
   "metadata": {},
   "outputs": [],
   "source": [
    "train_sequences = pd.read_csv('/home/bio_science/structure_prediction/rna_folding_kaggle/data/train_sequences.v2.csv')"
   ]
  },
  {
   "cell_type": "code",
   "execution_count": 5,
   "id": "76cebea1",
   "metadata": {},
   "outputs": [],
   "source": [
    "train_labels = pd.read_csv('/home/bio_science/structure_prediction/rna_folding_kaggle/data/train_labels.v2.csv')"
   ]
  },
  {
   "cell_type": "code",
   "execution_count": 6,
   "id": "bdee4277",
   "metadata": {},
   "outputs": [
    {
     "data": {
      "text/html": [
       "<div>\n",
       "<style scoped>\n",
       "    .dataframe tbody tr th:only-of-type {\n",
       "        vertical-align: middle;\n",
       "    }\n",
       "\n",
       "    .dataframe tbody tr th {\n",
       "        vertical-align: top;\n",
       "    }\n",
       "\n",
       "    .dataframe thead th {\n",
       "        text-align: right;\n",
       "    }\n",
       "</style>\n",
       "<table border=\"1\" class=\"dataframe\">\n",
       "  <thead>\n",
       "    <tr style=\"text-align: right;\">\n",
       "      <th></th>\n",
       "      <th>ID</th>\n",
       "      <th>resname</th>\n",
       "      <th>resid</th>\n",
       "      <th>x_1</th>\n",
       "      <th>y_1</th>\n",
       "      <th>z_1</th>\n",
       "    </tr>\n",
       "  </thead>\n",
       "  <tbody>\n",
       "    <tr>\n",
       "      <th>0</th>\n",
       "      <td>7TAX_M_1</td>\n",
       "      <td>C</td>\n",
       "      <td>1</td>\n",
       "      <td>187.126007</td>\n",
       "      <td>148.246002</td>\n",
       "      <td>210.417999</td>\n",
       "    </tr>\n",
       "    <tr>\n",
       "      <th>1</th>\n",
       "      <td>7TAX_M_2</td>\n",
       "      <td>U</td>\n",
       "      <td>2</td>\n",
       "      <td>185.255997</td>\n",
       "      <td>152.968002</td>\n",
       "      <td>204.617996</td>\n",
       "    </tr>\n",
       "    <tr>\n",
       "      <th>2</th>\n",
       "      <td>7TAX_M_3</td>\n",
       "      <td>A</td>\n",
       "      <td>3</td>\n",
       "      <td>189.360992</td>\n",
       "      <td>161.802002</td>\n",
       "      <td>205.214996</td>\n",
       "    </tr>\n",
       "    <tr>\n",
       "      <th>3</th>\n",
       "      <td>7TAX_M_4</td>\n",
       "      <td>A</td>\n",
       "      <td>4</td>\n",
       "      <td>186.000000</td>\n",
       "      <td>156.595993</td>\n",
       "      <td>209.951996</td>\n",
       "    </tr>\n",
       "    <tr>\n",
       "      <th>4</th>\n",
       "      <td>7TAX_M_5</td>\n",
       "      <td>G</td>\n",
       "      <td>5</td>\n",
       "      <td>181.947998</td>\n",
       "      <td>158.186996</td>\n",
       "      <td>213.610992</td>\n",
       "    </tr>\n",
       "  </tbody>\n",
       "</table>\n",
       "</div>"
      ],
      "text/plain": [
       "         ID resname  resid         x_1         y_1         z_1\n",
       "0  7TAX_M_1       C      1  187.126007  148.246002  210.417999\n",
       "1  7TAX_M_2       U      2  185.255997  152.968002  204.617996\n",
       "2  7TAX_M_3       A      3  189.360992  161.802002  205.214996\n",
       "3  7TAX_M_4       A      4  186.000000  156.595993  209.951996\n",
       "4  7TAX_M_5       G      5  181.947998  158.186996  213.610992"
      ]
     },
     "execution_count": 6,
     "metadata": {},
     "output_type": "execute_result"
    }
   ],
   "source": [
    "train_labels.head()"
   ]
  },
  {
   "cell_type": "code",
   "execution_count": 8,
   "id": "a79611fb",
   "metadata": {},
   "outputs": [],
   "source": [
    "train_labels['pdb_id'] = train_labels['ID'].apply(lambda x : x.split('_')[0] + '_' + x.split('_')[1])"
   ]
  },
  {
   "cell_type": "code",
   "execution_count": 9,
   "id": "902a0833",
   "metadata": {},
   "outputs": [
    {
     "data": {
      "text/html": [
       "<div>\n",
       "<style scoped>\n",
       "    .dataframe tbody tr th:only-of-type {\n",
       "        vertical-align: middle;\n",
       "    }\n",
       "\n",
       "    .dataframe tbody tr th {\n",
       "        vertical-align: top;\n",
       "    }\n",
       "\n",
       "    .dataframe thead th {\n",
       "        text-align: right;\n",
       "    }\n",
       "</style>\n",
       "<table border=\"1\" class=\"dataframe\">\n",
       "  <thead>\n",
       "    <tr style=\"text-align: right;\">\n",
       "      <th></th>\n",
       "      <th>ID</th>\n",
       "      <th>resname</th>\n",
       "      <th>resid</th>\n",
       "      <th>x_1</th>\n",
       "      <th>y_1</th>\n",
       "      <th>z_1</th>\n",
       "      <th>pdb_id</th>\n",
       "    </tr>\n",
       "  </thead>\n",
       "  <tbody>\n",
       "    <tr>\n",
       "      <th>0</th>\n",
       "      <td>7TAX_M_1</td>\n",
       "      <td>C</td>\n",
       "      <td>1</td>\n",
       "      <td>187.126007</td>\n",
       "      <td>148.246002</td>\n",
       "      <td>210.417999</td>\n",
       "      <td>7TAX_M</td>\n",
       "    </tr>\n",
       "    <tr>\n",
       "      <th>1</th>\n",
       "      <td>7TAX_M_2</td>\n",
       "      <td>U</td>\n",
       "      <td>2</td>\n",
       "      <td>185.255997</td>\n",
       "      <td>152.968002</td>\n",
       "      <td>204.617996</td>\n",
       "      <td>7TAX_M</td>\n",
       "    </tr>\n",
       "    <tr>\n",
       "      <th>2</th>\n",
       "      <td>7TAX_M_3</td>\n",
       "      <td>A</td>\n",
       "      <td>3</td>\n",
       "      <td>189.360992</td>\n",
       "      <td>161.802002</td>\n",
       "      <td>205.214996</td>\n",
       "      <td>7TAX_M</td>\n",
       "    </tr>\n",
       "    <tr>\n",
       "      <th>3</th>\n",
       "      <td>7TAX_M_4</td>\n",
       "      <td>A</td>\n",
       "      <td>4</td>\n",
       "      <td>186.000000</td>\n",
       "      <td>156.595993</td>\n",
       "      <td>209.951996</td>\n",
       "      <td>7TAX_M</td>\n",
       "    </tr>\n",
       "    <tr>\n",
       "      <th>4</th>\n",
       "      <td>7TAX_M_5</td>\n",
       "      <td>G</td>\n",
       "      <td>5</td>\n",
       "      <td>181.947998</td>\n",
       "      <td>158.186996</td>\n",
       "      <td>213.610992</td>\n",
       "      <td>7TAX_M</td>\n",
       "    </tr>\n",
       "  </tbody>\n",
       "</table>\n",
       "</div>"
      ],
      "text/plain": [
       "         ID resname  resid         x_1         y_1         z_1  pdb_id\n",
       "0  7TAX_M_1       C      1  187.126007  148.246002  210.417999  7TAX_M\n",
       "1  7TAX_M_2       U      2  185.255997  152.968002  204.617996  7TAX_M\n",
       "2  7TAX_M_3       A      3  189.360992  161.802002  205.214996  7TAX_M\n",
       "3  7TAX_M_4       A      4  186.000000  156.595993  209.951996  7TAX_M\n",
       "4  7TAX_M_5       G      5  181.947998  158.186996  213.610992  7TAX_M"
      ]
     },
     "execution_count": 9,
     "metadata": {},
     "output_type": "execute_result"
    }
   ],
   "source": [
    "train_labels.head()"
   ]
  },
  {
   "cell_type": "code",
   "execution_count": 11,
   "id": "690b2dfb",
   "metadata": {},
   "outputs": [
    {
     "data": {
      "text/html": [
       "<div>\n",
       "<style scoped>\n",
       "    .dataframe tbody tr th:only-of-type {\n",
       "        vertical-align: middle;\n",
       "    }\n",
       "\n",
       "    .dataframe tbody tr th {\n",
       "        vertical-align: top;\n",
       "    }\n",
       "\n",
       "    .dataframe thead th {\n",
       "        text-align: right;\n",
       "    }\n",
       "</style>\n",
       "<table border=\"1\" class=\"dataframe\">\n",
       "  <thead>\n",
       "    <tr style=\"text-align: right;\">\n",
       "      <th></th>\n",
       "      <th>target_id</th>\n",
       "      <th>sequence</th>\n",
       "      <th>temporal_cutoff</th>\n",
       "      <th>description</th>\n",
       "      <th>all_sequences</th>\n",
       "    </tr>\n",
       "  </thead>\n",
       "  <tbody>\n",
       "    <tr>\n",
       "      <th>0</th>\n",
       "      <td>7TAX_M</td>\n",
       "      <td>CUAAGAAAUUCACGGCGGGCUUGAUGUCCGCGUCUACCUGAUUCAC...</td>\n",
       "      <td>2022-09-21</td>\n",
       "      <td>Cryo-EM structure of the Csy-AcrIF24-promoter ...</td>\n",
       "      <td>&gt;7TAX_1|Chain A|CRISPR-associated protein Csy1...</td>\n",
       "    </tr>\n",
       "    <tr>\n",
       "      <th>1</th>\n",
       "      <td>4WF1_CA</td>\n",
       "      <td>AAUUGAAGAGUUUGAUCAUGGCUCAGAUUGAACGCUGGCGGCAGGC...</td>\n",
       "      <td>2014-11-05</td>\n",
       "      <td>Crystal structure of the E. coli ribosome boun...</td>\n",
       "      <td>&gt;4WF1_1|Chains A[auth AA], BB[auth CA]|16S rRN...</td>\n",
       "    </tr>\n",
       "    <tr>\n",
       "      <th>2</th>\n",
       "      <td>8PVA_b</td>\n",
       "      <td>UGCCUGGCGGCCGUAGCGCGGUGGUCCCACCUGACCCCAUGCCGAA...</td>\n",
       "      <td>2023-11-29</td>\n",
       "      <td>Structure of bacterial ribosome determined by ...</td>\n",
       "      <td>&gt;8PVA_1|Chain A|16S rRNA|Escherichia coli (562...</td>\n",
       "    </tr>\n",
       "    <tr>\n",
       "      <th>3</th>\n",
       "      <td>8OVE_BB</td>\n",
       "      <td>CAACUGCAGACCGUACUCAUCACCGCAUCAGGUCCCCAAGCAUCGA...</td>\n",
       "      <td>2023-11-29</td>\n",
       "      <td>CRYO-EM STRUCTURE OF TRYPANOSOMA BRUCEI PROCYC...</td>\n",
       "      <td>&gt;8OVE_1|Chain A[auth AA]|SSU rRNA|Trypanosoma ...</td>\n",
       "    </tr>\n",
       "    <tr>\n",
       "      <th>4</th>\n",
       "      <td>8JDL_w</td>\n",
       "      <td>UACCUGGUUGAUCCUGCCAGUAGCAUUGCUUGCCAAAGAUUAAGCC...</td>\n",
       "      <td>2023-12-06</td>\n",
       "      <td>Structure of the Human cytoplasmic Ribosome wi...</td>\n",
       "      <td>&gt;8JDL_1|Chain A|mRNA|Homo sapiens (9606)\\nUUAU...</td>\n",
       "    </tr>\n",
       "  </tbody>\n",
       "</table>\n",
       "</div>"
      ],
      "text/plain": [
       "  target_id                                           sequence  \\\n",
       "0    7TAX_M  CUAAGAAAUUCACGGCGGGCUUGAUGUCCGCGUCUACCUGAUUCAC...   \n",
       "1   4WF1_CA  AAUUGAAGAGUUUGAUCAUGGCUCAGAUUGAACGCUGGCGGCAGGC...   \n",
       "2    8PVA_b  UGCCUGGCGGCCGUAGCGCGGUGGUCCCACCUGACCCCAUGCCGAA...   \n",
       "3   8OVE_BB  CAACUGCAGACCGUACUCAUCACCGCAUCAGGUCCCCAAGCAUCGA...   \n",
       "4    8JDL_w  UACCUGGUUGAUCCUGCCAGUAGCAUUGCUUGCCAAAGAUUAAGCC...   \n",
       "\n",
       "  temporal_cutoff                                        description  \\\n",
       "0      2022-09-21  Cryo-EM structure of the Csy-AcrIF24-promoter ...   \n",
       "1      2014-11-05  Crystal structure of the E. coli ribosome boun...   \n",
       "2      2023-11-29  Structure of bacterial ribosome determined by ...   \n",
       "3      2023-11-29  CRYO-EM STRUCTURE OF TRYPANOSOMA BRUCEI PROCYC...   \n",
       "4      2023-12-06  Structure of the Human cytoplasmic Ribosome wi...   \n",
       "\n",
       "                                       all_sequences  \n",
       "0  >7TAX_1|Chain A|CRISPR-associated protein Csy1...  \n",
       "1  >4WF1_1|Chains A[auth AA], BB[auth CA]|16S rRN...  \n",
       "2  >8PVA_1|Chain A|16S rRNA|Escherichia coli (562...  \n",
       "3  >8OVE_1|Chain A[auth AA]|SSU rRNA|Trypanosoma ...  \n",
       "4  >8JDL_1|Chain A|mRNA|Homo sapiens (9606)\\nUUAU...  "
      ]
     },
     "execution_count": 11,
     "metadata": {},
     "output_type": "execute_result"
    }
   ],
   "source": [
    "train_sequences.head()"
   ]
  },
  {
   "cell_type": "code",
   "execution_count": 10,
   "id": "0948bd7e",
   "metadata": {},
   "outputs": [
    {
     "data": {
      "text/plain": [
       "0     7TAX_M\n",
       "1    4WF1_CA\n",
       "2     8PVA_b\n",
       "3    8OVE_BB\n",
       "4     8JDL_w\n",
       "Name: target_id, dtype: object"
      ]
     },
     "execution_count": 10,
     "metadata": {},
     "output_type": "execute_result"
    }
   ],
   "source": [
    "train_sequences['target_id'].head()"
   ]
  },
  {
   "cell_type": "code",
   "execution_count": 18,
   "id": "814d2c87",
   "metadata": {},
   "outputs": [
    {
     "name": "stdout",
     "output_type": "stream",
     "text": [
      "           ID resname  resid         x_1         y_1         z_1  pdb_id\n",
      "0    7TAX_M_1       C      1  187.126007  148.246002  210.417999  7TAX_M\n",
      "1    7TAX_M_2       U      2  185.255997  152.968002  204.617996  7TAX_M\n",
      "2    7TAX_M_3       A      3  189.360992  161.802002  205.214996  7TAX_M\n",
      "3    7TAX_M_4       A      4  186.000000  156.595993  209.951996  7TAX_M\n",
      "4    7TAX_M_5       G      5  181.947998  158.186996  213.610992  7TAX_M\n",
      "..        ...     ...    ...         ...         ...         ...     ...\n",
      "56  7TAX_M_57       G     57  132.528000  109.032997  176.059006  7TAX_M\n",
      "57  7TAX_M_58       C     58  130.798004  108.698997  170.755005  7TAX_M\n",
      "58  7TAX_M_59       A     59  129.899002  110.066002  165.324005  7TAX_M\n",
      "59  7TAX_M_60       G     60  132.529999  111.850998  159.748993  7TAX_M\n",
      "60  7TAX_M_61       C     61         NaN         NaN         NaN  7TAX_M\n",
      "\n",
      "[61 rows x 7 columns]\n",
      "[[187.126 148.246 210.418]\n",
      " [185.256 152.968 204.618]\n",
      " [189.361 161.802 205.215]\n",
      " [186.    156.596 209.952]\n",
      " [181.948 158.187 213.611]\n",
      " [177.646 163.181 214.16 ]\n",
      " [173.88  167.345 211.883]\n",
      " [166.337 171.126 210.593]\n",
      " [168.327 176.514 206.157]\n",
      " [163.816 179.339 207.056]\n",
      " [160.164 182.846 207.755]\n",
      " [157.792 186.915 204.088]\n",
      " [157.158 189.005 198.698]\n",
      " [152.66  192.781 192.645]\n",
      " [157.734 192.806 187.802]\n",
      " [154.684 196.122 184.126]\n",
      " [153.8   200.252 181.389]\n",
      " [154.312 201.403 175.669]\n",
      " [155.549 199.982 170.549]\n",
      " [154.211 199.162 162.055]\n",
      " [160.19  195.037 161.332]\n",
      " [159.291 196.51  156.358]\n",
      " [161.04  197.188 150.417]\n",
      " [162.789 193.873 145.997]\n",
      " [163.77  188.684 143.856]\n",
      " [164.069 183.063 137.584]\n",
      " [166.558 177.619 141.263]\n",
      " [168.46  174.762 137.156]\n",
      " [170.408 172.246 133.37 ]\n",
      " [171.267 166.194 132.894]\n",
      " [170.009 160.922 134.319]\n",
      " [168.633 152.67  132.593]\n",
      " [167.908 151.195 139.828]\n",
      " [168.569 146.26  138.383]\n",
      " [168.769 140.641 138.849]\n",
      " [166.788 135.88  141.479]\n",
      " [162.474 133.513 145.156]\n",
      " [157.161 127.385 147.689]\n",
      " [154.483 131.364 152.903]\n",
      " [153.504 127.077 155.494]\n",
      " [154.978 124.766 158.568]\n",
      " [149.404 118.702 160.857]\n",
      " [148.372 126.749 161.397]\n",
      " [140.345 125.204 160.541]\n",
      " [141.742 122.117 168.219]\n",
      " [136.223 122.105 163.723]\n",
      " [130.46  120.357 163.267]\n",
      " [127.065 117.13  165.63 ]\n",
      " [125.42  113.368 169.132]\n",
      " [124.857 109.97  174.304]\n",
      " [124.845 112.07  179.228]\n",
      " [121.75  116.866 184.249]\n",
      " [126.895 117.305 184.03 ]\n",
      " [131.927 122.007 183.208]\n",
      " [132.636 114.442 185.121]\n",
      " [133.476 111.408 181.059]\n",
      " [132.528 109.033 176.059]\n",
      " [130.798 108.699 170.755]\n",
      " [129.899 110.066 165.324]\n",
      " [132.53  111.851 159.749]\n",
      " [    nan     nan     nan]] <class 'numpy.ndarray'> (61, 3)\n",
      "[[False False False]\n",
      " [False False False]\n",
      " [False False False]\n",
      " [False False False]\n",
      " [False False False]\n",
      " [False False False]\n",
      " [False False False]\n",
      " [False False False]\n",
      " [False False False]\n",
      " [False False False]\n",
      " [False False False]\n",
      " [False False False]\n",
      " [False False False]\n",
      " [False False False]\n",
      " [False False False]\n",
      " [False False False]\n",
      " [False False False]\n",
      " [False False False]\n",
      " [False False False]\n",
      " [False False False]\n",
      " [False False False]\n",
      " [False False False]\n",
      " [False False False]\n",
      " [False False False]\n",
      " [False False False]\n",
      " [False False False]\n",
      " [False False False]\n",
      " [False False False]\n",
      " [False False False]\n",
      " [False False False]\n",
      " [False False False]\n",
      " [False False False]\n",
      " [False False False]\n",
      " [False False False]\n",
      " [False False False]\n",
      " [False False False]\n",
      " [False False False]\n",
      " [False False False]\n",
      " [False False False]\n",
      " [False False False]\n",
      " [False False False]\n",
      " [False False False]\n",
      " [False False False]\n",
      " [False False False]\n",
      " [False False False]\n",
      " [False False False]\n",
      " [False False False]\n",
      " [False False False]\n",
      " [False False False]\n",
      " [False False False]\n",
      " [False False False]\n",
      " [False False False]\n",
      " [False False False]\n",
      " [False False False]\n",
      " [False False False]\n",
      " [False False False]\n",
      " [False False False]\n",
      " [False False False]\n",
      " [False False False]\n",
      " [False False False]\n",
      " [False False False]] <class 'numpy.ndarray'> (61, 3)\n"
     ]
    }
   ],
   "source": [
    "all_xyz = []\n",
    "for pdb_id in train_sequences['target_id']:\n",
    "    df = train_labels[train_labels['pdb_id'] == pdb_id]\n",
    "\n",
    "    print(df)\n",
    "\n",
    "    xyz = df[['x_1', 'y_1', 'z_1']].to_numpy().astype('float32')\n",
    "    print(xyz, type(xyz), xyz.shape)\n",
    "\n",
    "    print(xyz<1e-17, type(xyz<1e-17), (xyz<1e-17).shape)\n",
    "    xyz[xyz<1e-17] = float('NaN')\n",
    "    all_xyz.append(xyz)\n",
    "    break"
   ]
  },
  {
   "cell_type": "code",
   "execution_count": 19,
   "id": "b76290ee",
   "metadata": {},
   "outputs": [],
   "source": [
    "config = {\n",
    "    \"seed\": 0,\n",
    "    \"cutoff_date\": \"2020-01-01\",\n",
    "    \"test_cutoff_date\": \"2022-05-01\",\n",
    "    \"max_len\": 256,\n",
    "    \"batch_size\": 1,\n",
    "    \"learning_rate\": 1e-4,\n",
    "    \"weight_decay\": 0.0,\n",
    "    \"mixed_precision\": \"bf16\",\n",
    "    \"model_config_path\": \"../working/configs/pairwise.yaml\",  # Adjust path as needed\n",
    "    \"epochs\": 1,\n",
    "    \"cos_epoch\": 0,\n",
    "    \"loss_power_scale\": 1.0,\n",
    "    \"max_cycles\": 1,\n",
    "    \"grad_clip\": 0.1,\n",
    "    \"gradient_accumulation_steps\": 1,\n",
    "    \"d_clamp\": 30,\n",
    "    \"max_len_filter\": 9999999,\n",
    "    \"min_len_filter\":10,\n",
    "    \"structural_violation_epoch\": 50,\n",
    "    \"balance_weight\": False,\n",
    "    \"n_times\": 1000,\n",
    "}"
   ]
  },
  {
   "cell_type": "code",
   "execution_count": 23,
   "id": "1a98cb67",
   "metadata": {},
   "outputs": [],
   "source": [
    "import numpy as np"
   ]
  },
  {
   "cell_type": "code",
   "execution_count": 31,
   "id": "de701619",
   "metadata": {},
   "outputs": [
    {
     "name": "stdout",
     "output_type": "stream",
     "text": [
      "[[187.126 148.246 210.418]\n",
      " [185.256 152.968 204.618]\n",
      " [189.361 161.802 205.215]\n",
      " [186.    156.596 209.952]\n",
      " [181.948 158.187 213.611]\n",
      " [177.646 163.181 214.16 ]\n",
      " [173.88  167.345 211.883]\n",
      " [166.337 171.126 210.593]\n",
      " [168.327 176.514 206.157]\n",
      " [163.816 179.339 207.056]\n",
      " [160.164 182.846 207.755]\n",
      " [157.792 186.915 204.088]\n",
      " [157.158 189.005 198.698]\n",
      " [152.66  192.781 192.645]\n",
      " [157.734 192.806 187.802]\n",
      " [154.684 196.122 184.126]\n",
      " [153.8   200.252 181.389]\n",
      " [154.312 201.403 175.669]\n",
      " [155.549 199.982 170.549]\n",
      " [154.211 199.162 162.055]\n",
      " [160.19  195.037 161.332]\n",
      " [159.291 196.51  156.358]\n",
      " [161.04  197.188 150.417]\n",
      " [162.789 193.873 145.997]\n",
      " [163.77  188.684 143.856]\n",
      " [164.069 183.063 137.584]\n",
      " [166.558 177.619 141.263]\n",
      " [168.46  174.762 137.156]\n",
      " [170.408 172.246 133.37 ]\n",
      " [171.267 166.194 132.894]\n",
      " [170.009 160.922 134.319]\n",
      " [168.633 152.67  132.593]\n",
      " [167.908 151.195 139.828]\n",
      " [168.569 146.26  138.383]\n",
      " [168.769 140.641 138.849]\n",
      " [166.788 135.88  141.479]\n",
      " [162.474 133.513 145.156]\n",
      " [157.161 127.385 147.689]\n",
      " [154.483 131.364 152.903]\n",
      " [153.504 127.077 155.494]\n",
      " [154.978 124.766 158.568]\n",
      " [149.404 118.702 160.857]\n",
      " [148.372 126.749 161.397]\n",
      " [140.345 125.204 160.541]\n",
      " [141.742 122.117 168.219]\n",
      " [136.223 122.105 163.723]\n",
      " [130.46  120.357 163.267]\n",
      " [127.065 117.13  165.63 ]\n",
      " [125.42  113.368 169.132]\n",
      " [124.857 109.97  174.304]\n",
      " [124.845 112.07  179.228]\n",
      " [121.75  116.866 184.249]\n",
      " [126.895 117.305 184.03 ]\n",
      " [131.927 122.007 183.208]\n",
      " [132.636 114.442 185.121]\n",
      " [133.476 111.408 181.059]\n",
      " [132.528 109.033 176.059]\n",
      " [130.798 108.699 170.755]\n",
      " [129.899 110.066 165.324]\n",
      " [132.53  111.851 159.749]\n",
      " [    nan     nan     nan]] <class 'numpy.ndarray'>\n"
     ]
    }
   ],
   "source": [
    "filter_nan = []\n",
    "max_len = 0\n",
    "for xyz in all_xyz:\n",
    "    print(xyz, type(xyz))\n",
    "    if len(xyz) > max_len:\n",
    "        max_len = len(xyz)\n",
    "\n",
    "    filter_nan.append((np.isnan(xyz).mean() <= 0.5) & \\\n",
    "    (len(xyz)<config['max_len_filter']) & \\\n",
    "    (len(xyz)>config['min_len_filter']) )\n"
   ]
  },
  {
   "cell_type": "code",
   "execution_count": 26,
   "id": "a004463e",
   "metadata": {},
   "outputs": [
    {
     "data": {
      "text/plain": [
       "[True]"
      ]
     },
     "execution_count": 26,
     "metadata": {},
     "output_type": "execute_result"
    }
   ],
   "source": [
    "filter_nan"
   ]
  },
  {
   "cell_type": "code",
   "execution_count": 32,
   "id": "e4a94ad9",
   "metadata": {},
   "outputs": [],
   "source": [
    "filter_nan = np.array(filter_nan)"
   ]
  },
  {
   "cell_type": "code",
   "execution_count": 33,
   "id": "4f43e7a2",
   "metadata": {},
   "outputs": [
    {
     "data": {
      "text/plain": [
       "array([ True])"
      ]
     },
     "execution_count": 33,
     "metadata": {},
     "output_type": "execute_result"
    }
   ],
   "source": [
    "filter_nan"
   ]
  },
  {
   "cell_type": "code",
   "execution_count": 34,
   "id": "c5faaf6c",
   "metadata": {},
   "outputs": [],
   "source": [
    "non_nan_indices = np.arange(len(filter_nan))[filter_nan]"
   ]
  },
  {
   "cell_type": "code",
   "execution_count": 36,
   "id": "054fca38",
   "metadata": {},
   "outputs": [
    {
     "data": {
      "text/plain": [
       "array([0])"
      ]
     },
     "execution_count": 36,
     "metadata": {},
     "output_type": "execute_result"
    }
   ],
   "source": [
    "non_nan_indices"
   ]
  },
  {
   "cell_type": "code",
   "execution_count": 37,
   "id": "0a812d8e",
   "metadata": {},
   "outputs": [],
   "source": [
    "train_sequences = train_sequences.loc[non_nan_indices]"
   ]
  },
  {
   "cell_type": "code",
   "execution_count": 39,
   "id": "2b5d0b7b",
   "metadata": {},
   "outputs": [],
   "source": [
    "train_sequences = train_sequences.reset_index(drop=True)"
   ]
  },
  {
   "cell_type": "code",
   "execution_count": 40,
   "id": "a1fd1c31",
   "metadata": {},
   "outputs": [
    {
     "data": {
      "text/html": [
       "<div>\n",
       "<style scoped>\n",
       "    .dataframe tbody tr th:only-of-type {\n",
       "        vertical-align: middle;\n",
       "    }\n",
       "\n",
       "    .dataframe tbody tr th {\n",
       "        vertical-align: top;\n",
       "    }\n",
       "\n",
       "    .dataframe thead th {\n",
       "        text-align: right;\n",
       "    }\n",
       "</style>\n",
       "<table border=\"1\" class=\"dataframe\">\n",
       "  <thead>\n",
       "    <tr style=\"text-align: right;\">\n",
       "      <th></th>\n",
       "      <th>target_id</th>\n",
       "      <th>sequence</th>\n",
       "      <th>temporal_cutoff</th>\n",
       "      <th>description</th>\n",
       "      <th>all_sequences</th>\n",
       "    </tr>\n",
       "  </thead>\n",
       "  <tbody>\n",
       "    <tr>\n",
       "      <th>0</th>\n",
       "      <td>7TAX_M</td>\n",
       "      <td>CUAAGAAAUUCACGGCGGGCUUGAUGUCCGCGUCUACCUGAUUCAC...</td>\n",
       "      <td>2022-09-21</td>\n",
       "      <td>Cryo-EM structure of the Csy-AcrIF24-promoter ...</td>\n",
       "      <td>&gt;7TAX_1|Chain A|CRISPR-associated protein Csy1...</td>\n",
       "    </tr>\n",
       "  </tbody>\n",
       "</table>\n",
       "</div>"
      ],
      "text/plain": [
       "  target_id                                           sequence  \\\n",
       "0    7TAX_M  CUAAGAAAUUCACGGCGGGCUUGAUGUCCGCGUCUACCUGAUUCAC...   \n",
       "\n",
       "  temporal_cutoff                                        description  \\\n",
       "0      2022-09-21  Cryo-EM structure of the Csy-AcrIF24-promoter ...   \n",
       "\n",
       "                                       all_sequences  \n",
       "0  >7TAX_1|Chain A|CRISPR-associated protein Csy1...  "
      ]
     },
     "execution_count": 40,
     "metadata": {},
     "output_type": "execute_result"
    }
   ],
   "source": [
    "train_sequences"
   ]
  },
  {
   "cell_type": "code",
   "execution_count": 42,
   "id": "916c653c",
   "metadata": {},
   "outputs": [],
   "source": [
    "all_xyz=[all_xyz[i] for i in non_nan_indices]"
   ]
  },
  {
   "cell_type": "code",
   "execution_count": 43,
   "id": "4149e07e",
   "metadata": {},
   "outputs": [
    {
     "data": {
      "text/plain": [
       "[array([[187.126, 148.246, 210.418],\n",
       "        [185.256, 152.968, 204.618],\n",
       "        [189.361, 161.802, 205.215],\n",
       "        [186.   , 156.596, 209.952],\n",
       "        [181.948, 158.187, 213.611],\n",
       "        [177.646, 163.181, 214.16 ],\n",
       "        [173.88 , 167.345, 211.883],\n",
       "        [166.337, 171.126, 210.593],\n",
       "        [168.327, 176.514, 206.157],\n",
       "        [163.816, 179.339, 207.056],\n",
       "        [160.164, 182.846, 207.755],\n",
       "        [157.792, 186.915, 204.088],\n",
       "        [157.158, 189.005, 198.698],\n",
       "        [152.66 , 192.781, 192.645],\n",
       "        [157.734, 192.806, 187.802],\n",
       "        [154.684, 196.122, 184.126],\n",
       "        [153.8  , 200.252, 181.389],\n",
       "        [154.312, 201.403, 175.669],\n",
       "        [155.549, 199.982, 170.549],\n",
       "        [154.211, 199.162, 162.055],\n",
       "        [160.19 , 195.037, 161.332],\n",
       "        [159.291, 196.51 , 156.358],\n",
       "        [161.04 , 197.188, 150.417],\n",
       "        [162.789, 193.873, 145.997],\n",
       "        [163.77 , 188.684, 143.856],\n",
       "        [164.069, 183.063, 137.584],\n",
       "        [166.558, 177.619, 141.263],\n",
       "        [168.46 , 174.762, 137.156],\n",
       "        [170.408, 172.246, 133.37 ],\n",
       "        [171.267, 166.194, 132.894],\n",
       "        [170.009, 160.922, 134.319],\n",
       "        [168.633, 152.67 , 132.593],\n",
       "        [167.908, 151.195, 139.828],\n",
       "        [168.569, 146.26 , 138.383],\n",
       "        [168.769, 140.641, 138.849],\n",
       "        [166.788, 135.88 , 141.479],\n",
       "        [162.474, 133.513, 145.156],\n",
       "        [157.161, 127.385, 147.689],\n",
       "        [154.483, 131.364, 152.903],\n",
       "        [153.504, 127.077, 155.494],\n",
       "        [154.978, 124.766, 158.568],\n",
       "        [149.404, 118.702, 160.857],\n",
       "        [148.372, 126.749, 161.397],\n",
       "        [140.345, 125.204, 160.541],\n",
       "        [141.742, 122.117, 168.219],\n",
       "        [136.223, 122.105, 163.723],\n",
       "        [130.46 , 120.357, 163.267],\n",
       "        [127.065, 117.13 , 165.63 ],\n",
       "        [125.42 , 113.368, 169.132],\n",
       "        [124.857, 109.97 , 174.304],\n",
       "        [124.845, 112.07 , 179.228],\n",
       "        [121.75 , 116.866, 184.249],\n",
       "        [126.895, 117.305, 184.03 ],\n",
       "        [131.927, 122.007, 183.208],\n",
       "        [132.636, 114.442, 185.121],\n",
       "        [133.476, 111.408, 181.059],\n",
       "        [132.528, 109.033, 176.059],\n",
       "        [130.798, 108.699, 170.755],\n",
       "        [129.899, 110.066, 165.324],\n",
       "        [132.53 , 111.851, 159.749],\n",
       "        [    nan,     nan,     nan]], dtype=float32)]"
      ]
     },
     "execution_count": 43,
     "metadata": {},
     "output_type": "execute_result"
    }
   ],
   "source": [
    "all_xyz"
   ]
  },
  {
   "cell_type": "code",
   "execution_count": 44,
   "id": "914ca091",
   "metadata": {},
   "outputs": [],
   "source": [
    "data = {\n",
    "    \"sequence\": train_sequences['sequence'].to_list(),\n",
    "    \"temporal_cutoff\": train_sequences['temporal_cutoff'].to_list(),\n",
    "    \"description\": train_sequences['description'].to_list(),\n",
    "    \"all_sequences\": train_sequences['all_sequences'].to_list(),\n",
    "    \"xyz\": all_xyz # C1' 좌표 리스트\n",
    "}"
   ]
  },
  {
   "cell_type": "code",
   "execution_count": 45,
   "id": "29d71287",
   "metadata": {},
   "outputs": [
    {
     "data": {
      "text/plain": [
       "{'sequence': ['CUAAGAAAUUCACGGCGGGCUUGAUGUCCGCGUCUACCUGAUUCACUGCCGUAUAGGCAGC'],\n",
       " 'temporal_cutoff': ['2022-09-21'],\n",
       " 'description': ['Cryo-EM structure of the Csy-AcrIF24-promoter DNA complex'],\n",
       " 'all_sequences': [\">7TAX_1|Chain A|CRISPR-associated protein Csy1|Pseudomonas (286)\\nMTSPLPTPTWQELRQFIESFIQERLQGKLDKLQPDEDDKRQTLLATHRREAWLADAARRVGQLQLVTHTLKPIHPDARGSNLHSLPQAPGQPGLAGSHELGDRLVSDVVGNAAALDVFKFLSLQYQGKNLLNWLTEDSAEALQALSDNAEQAREWRQAFIGITTVKGAPASHSLAKQLYFPLPGSGYHLLAPLFPTSLVHHVHALLREARFGDAAKAAREARSRQESWPHGFSEYPNLAIQKFGGTKPQNISQLNNERRGENWLLPSLPPNWQRQNVNAPMRHSSVFEHDFGRTPEVSRLTRTLQRFLAKTVHNNLAIRQRRAQLVAQICDEALQYAARLRELEPGWSATPGCQLHDAEQLWLDPLRAQTDETFLQRRLRGDWPAEVGNRFANWLNRAVSSDSQILGSPEAAQWSQELSKELTMFKEILEDERD\\n>7TAX_2|Chain B|CRISPR type I-F/YPEST-associated protein Csy2|Pseudomonas (286)\\nMSVTDPEALLLLPRLSIQNANAISSPLTWGFPSPGAFTGFVHALQRRVGISLDIELDGVGIVCHRFEAQISQPAGKRTKVFNLTRNPLNRDGSTAAIVEEGRAHLEVSLLLGVHGDGLDDHPAQEIARQVQEQAGAMRLAGGSILPWCNERFPAPNAELLMLGGSDEQRRKNQRRLTRRLLPGFALVSREALLQQHLETLRTTLPEATTLDALLDLCRINFEPPATSSEEEASPPDAAWQVRDKPGWLVPIPAGYNALSPLYLPGEVRNARDRETPLRFVENLFGLGEWLSPHRVAALSDLLWYHHAEPDKGLYRWSTPRFVEHAIA\\n>7TAX_3|Chain C|CRISPR-associated endonuclease Cas6/Csy4|Pseudomonas (286)\\nMDHYLDIRLRPDPEFPPAQLMSVLFGKLHQALVAQGGDRIGVSFPDLDESRSRLGERLRIHASADDLRALLARPWLEGLRDHLQFGEPAVVPHPTPYRQVSRVQAKSNPERLRRRLMRRHDLSEEEARKRIPDTVARALDLPFVTLRSQSTGQHFRLFIRHGPLQVTAEEGGFTCYGLSKGGFVPWF\\n>7TAX_4|Chains D, E, F, G, H, I|CRISPR type I-F/YPEST-associated protein Csy3|Pseudomonas (286)\\nMKSSHHHHHHENLYFQSNASKPILSTASVLAFERKLDPSDALMSAGAWAQRDASQEWPAVTVREKSVRGTISNRLKTKDRDPAKLDASIQSPNLQTVDVANLPSDADTLKVRFTLRVLGGAGTPSACNDAAYRDKLLQTVATYVNDQGFAELARRYAHNLANARFLWRNRVGAEAVEVRINHIRQGEVARAWRFDALAIGLRDFKADAELDALAELIASGLSGSGHVLLEVVAFARIGDGQEVFPSQELILDKGDKKGQKSKTLYSVRDAAAIHSQKIGNALRTIDTWYPDEDGLGPIAVEPYGSVTSQGKAYRQPKQKLDFYTLLDNWVLRDEAPAVEQQHYVIANLIRGGVFGEAEEK\\n>7TAX_5|Chains J, K|AcrIF24|Pseudomonas (286)\\nMNAIHIGPFSITPAARGLHYGGLPHHQWTLYYGPREMAIKTLPDSYTSSEVRDEFSDIIAEFVIDARHRYAPDVLELVNSDGDAVLARVAVSRLPEALSGCIPDDRFPYWLLTASRPRLGLPVTLNEYTALAVELSAPPLAWITGLLPGEVLTHDAEEWRPPTSWELRHVVGEGSFTGVSGAAAAALLGMSATNFRKYTAGDSAANRQKISFAAWHYLLDRLGVKRAS\\n>7TAX_6|Chain L[auth M]|RNA (61-MER)|Pseudomonas (286)\\nCUAAGAAAUUCACGGCGGGCUUGAUGUCCGCGUCUACCUGAUUCACUGCCGUAUAGGCAGC\\n>7TAX_7|Chain M[auth Y]|DNA (5'-D(P*AP*TP*AP*GP*CP*TP*CP*GP*AP*TP*TP*CP*GP*AP*GP*CP*TP*AP*A)-3')|Pseudomonas (286)\\nATAGCTCGATTCGAGCTAA\\n>7TAX_8|Chain N[auth X]|DNA (5'-D(P*TP*TP*AP*GP*CP*TP*CP*GP*AP*AP*TP*CP*GP*AP*GP*CP*TP*AP*T)-3')|Pseudomonas (286)\\nTTAGCTCGAATCGAGCTAT\\n\"],\n",
       " 'xyz': [array([[187.126, 148.246, 210.418],\n",
       "         [185.256, 152.968, 204.618],\n",
       "         [189.361, 161.802, 205.215],\n",
       "         [186.   , 156.596, 209.952],\n",
       "         [181.948, 158.187, 213.611],\n",
       "         [177.646, 163.181, 214.16 ],\n",
       "         [173.88 , 167.345, 211.883],\n",
       "         [166.337, 171.126, 210.593],\n",
       "         [168.327, 176.514, 206.157],\n",
       "         [163.816, 179.339, 207.056],\n",
       "         [160.164, 182.846, 207.755],\n",
       "         [157.792, 186.915, 204.088],\n",
       "         [157.158, 189.005, 198.698],\n",
       "         [152.66 , 192.781, 192.645],\n",
       "         [157.734, 192.806, 187.802],\n",
       "         [154.684, 196.122, 184.126],\n",
       "         [153.8  , 200.252, 181.389],\n",
       "         [154.312, 201.403, 175.669],\n",
       "         [155.549, 199.982, 170.549],\n",
       "         [154.211, 199.162, 162.055],\n",
       "         [160.19 , 195.037, 161.332],\n",
       "         [159.291, 196.51 , 156.358],\n",
       "         [161.04 , 197.188, 150.417],\n",
       "         [162.789, 193.873, 145.997],\n",
       "         [163.77 , 188.684, 143.856],\n",
       "         [164.069, 183.063, 137.584],\n",
       "         [166.558, 177.619, 141.263],\n",
       "         [168.46 , 174.762, 137.156],\n",
       "         [170.408, 172.246, 133.37 ],\n",
       "         [171.267, 166.194, 132.894],\n",
       "         [170.009, 160.922, 134.319],\n",
       "         [168.633, 152.67 , 132.593],\n",
       "         [167.908, 151.195, 139.828],\n",
       "         [168.569, 146.26 , 138.383],\n",
       "         [168.769, 140.641, 138.849],\n",
       "         [166.788, 135.88 , 141.479],\n",
       "         [162.474, 133.513, 145.156],\n",
       "         [157.161, 127.385, 147.689],\n",
       "         [154.483, 131.364, 152.903],\n",
       "         [153.504, 127.077, 155.494],\n",
       "         [154.978, 124.766, 158.568],\n",
       "         [149.404, 118.702, 160.857],\n",
       "         [148.372, 126.749, 161.397],\n",
       "         [140.345, 125.204, 160.541],\n",
       "         [141.742, 122.117, 168.219],\n",
       "         [136.223, 122.105, 163.723],\n",
       "         [130.46 , 120.357, 163.267],\n",
       "         [127.065, 117.13 , 165.63 ],\n",
       "         [125.42 , 113.368, 169.132],\n",
       "         [124.857, 109.97 , 174.304],\n",
       "         [124.845, 112.07 , 179.228],\n",
       "         [121.75 , 116.866, 184.249],\n",
       "         [126.895, 117.305, 184.03 ],\n",
       "         [131.927, 122.007, 183.208],\n",
       "         [132.636, 114.442, 185.121],\n",
       "         [133.476, 111.408, 181.059],\n",
       "         [132.528, 109.033, 176.059],\n",
       "         [130.798, 108.699, 170.755],\n",
       "         [129.899, 110.066, 165.324],\n",
       "         [132.53 , 111.851, 159.749],\n",
       "         [    nan,     nan,     nan]], dtype=float32)]}"
      ]
     },
     "execution_count": 45,
     "metadata": {},
     "output_type": "execute_result"
    }
   ],
   "source": [
    "data"
   ]
  },
  {
   "cell_type": "code",
   "execution_count": 46,
   "id": "d4e4b93b",
   "metadata": {},
   "outputs": [],
   "source": [
    "all_index = np.arange(len(data['sequence']))"
   ]
  },
  {
   "cell_type": "code",
   "execution_count": 47,
   "id": "8b8f2671",
   "metadata": {},
   "outputs": [
    {
     "data": {
      "text/plain": [
       "array([0])"
      ]
     },
     "execution_count": 47,
     "metadata": {},
     "output_type": "execute_result"
    }
   ],
   "source": [
    "all_index"
   ]
  },
  {
   "cell_type": "code",
   "execution_count": 48,
   "id": "e83e0e93",
   "metadata": {},
   "outputs": [
    {
     "data": {
      "text/plain": [
       "1"
      ]
     },
     "execution_count": 48,
     "metadata": {},
     "output_type": "execute_result"
    }
   ],
   "source": [
    "len(data['sequence'])"
   ]
  },
  {
   "cell_type": "code",
   "execution_count": 49,
   "id": "3134c5f2",
   "metadata": {},
   "outputs": [],
   "source": [
    "cutoff_date = pd.Timestamp(config['cutoff_date'])"
   ]
  },
  {
   "cell_type": "code",
   "execution_count": 50,
   "id": "520d9c18",
   "metadata": {},
   "outputs": [],
   "source": [
    "test_cutoff_date = pd.Timestamp(config['test_cutoff_date'])"
   ]
  },
  {
   "cell_type": "code",
   "execution_count": 56,
   "id": "952c0874",
   "metadata": {},
   "outputs": [
    {
     "data": {
      "text/plain": [
       "Timestamp('2020-01-01 00:00:00')"
      ]
     },
     "execution_count": 56,
     "metadata": {},
     "output_type": "execute_result"
    }
   ],
   "source": [
    "cutoff_date"
   ]
  },
  {
   "cell_type": "code",
   "execution_count": 57,
   "id": "888ca4a6",
   "metadata": {},
   "outputs": [
    {
     "data": {
      "text/plain": [
       "['2022-09-21']"
      ]
     },
     "execution_count": 57,
     "metadata": {},
     "output_type": "execute_result"
    }
   ],
   "source": [
    "data['temporal_cutoff']"
   ]
  },
  {
   "cell_type": "code",
   "execution_count": 58,
   "id": "007d3e29",
   "metadata": {},
   "outputs": [
    {
     "data": {
      "text/plain": [
       "Timestamp('2022-05-01 00:00:00')"
      ]
     },
     "execution_count": 58,
     "metadata": {},
     "output_type": "execute_result"
    }
   ],
   "source": [
    "test_cutoff_date"
   ]
  },
  {
   "cell_type": "code",
   "execution_count": null,
   "id": "24d7d168",
   "metadata": {},
   "outputs": [],
   "source": [
    "train_index = [i for i, d in enumerate(data['temporal_cutoff']) if pd.Timestamp(d) <= cutoff_date]\n",
    "test_index = [i for i, d in enumerate(data['temporal_cutoff']) if pd.Timestamp(d) > cutoff_date and pd.Timestamp(d) <= test_cutoff_date]"
   ]
  },
  {
   "cell_type": "code",
   "execution_count": 53,
   "id": "c57c14bd",
   "metadata": {},
   "outputs": [
    {
     "data": {
      "text/plain": [
       "([], [])"
      ]
     },
     "execution_count": 53,
     "metadata": {},
     "output_type": "execute_result"
    }
   ],
   "source": [
    "train_index, test_index"
   ]
  },
  {
   "cell_type": "code",
   "execution_count": 55,
   "id": "432847a0",
   "metadata": {},
   "outputs": [
    {
     "name": "stdout",
     "output_type": "stream",
     "text": [
      "Train size: 0\n",
      "Test size: 0\n"
     ]
    }
   ],
   "source": [
    "print(f\"Train size: {len(train_index)}\")\n",
    "print(f\"Test size: {len(test_index)}\")"
   ]
  },
  {
   "cell_type": "code",
   "execution_count": 59,
   "id": "7867e0e2",
   "metadata": {},
   "outputs": [],
   "source": [
    "from tqdm import tqdm"
   ]
  },
  {
   "cell_type": "code",
   "execution_count": 61,
   "id": "4ac89b8e",
   "metadata": {},
   "outputs": [
    {
     "name": "stderr",
     "output_type": "stream",
     "text": [
      "100%|██████████████████████████████████████████████████████████████████████████████████████████████████████████████████| 5135/5135 [17:14<00:00,  4.97it/s]\n"
     ]
    },
    {
     "name": "stdout",
     "output_type": "stream",
     "text": [
      "Longest sequence in train: 4417\n",
      "Train size: 2507\n",
      "Test size: 801\n"
     ]
    }
   ],
   "source": [
    "train_sequences = pd.read_csv('/home/bio_science/structure_prediction/rna_folding_kaggle/data/train_sequences.v2.csv')\n",
    "train_labels = pd.read_csv('/home/bio_science/structure_prediction/rna_folding_kaggle/data/train_labels.v2.csv')\n",
    "\n",
    "train_labels[\"pdb_id\"] = train_labels[\"ID\"].apply(lambda x: x.split(\"_\")[0]+'_'+x.split(\"_\")[1])\n",
    "\n",
    "all_xyz=[]\n",
    "\n",
    "for pdb_id in tqdm(train_sequences['target_id']):\n",
    "    df = train_labels[train_labels[\"pdb_id\"]==pdb_id] # 현재 시퀀스에 해당하는 좌표만 필터링\n",
    "    #break\n",
    "    xyz=df[['x_1','y_1','z_1']].to_numpy().astype('float32') # C1' 좌표만 추출 \n",
    "    xyz[xyz<-1e17]=float('Nan') # 큰 음수 값은 NaN으로 처리 (마스킹)\n",
    "    all_xyz.append(xyz)\n",
    "\n",
    "# filter the data\n",
    "# Filter and process data\n",
    "filter_nan = []\n",
    "max_len = 0\n",
    "for xyz in all_xyz:\n",
    "    if len(xyz) > max_len:\n",
    "        max_len = len(xyz)\n",
    "    #fill -1e18 masked sequences to nans\n",
    "\n",
    "    #sugar_xyz = np.stack([nt_xyz['sugar_ring'] for nt_xyz in xyz], axis=0)\n",
    "    # NaN 비율 50% 이하\n",
    "    # 너무 긴 시퀀스 제외\n",
    "    # 너무 짧은 시퀀스 제외\n",
    "    filter_nan.append((np.isnan(xyz).mean() <= 0.5) & \\\n",
    "                    (len(xyz)<config['max_len_filter']) & \\\n",
    "                    (len(xyz)>config['min_len_filter']))\n",
    "\n",
    "print(f\"Longest sequence in train: {max_len}\")\n",
    "\n",
    "filter_nan = np.array(filter_nan)\n",
    "non_nan_indices = np.arange(len(filter_nan))[filter_nan] # 조건을 만족하는 인덱스만 추출\n",
    "\n",
    "train_sequences = train_sequences.loc[non_nan_indices].reset_index(drop=True)\n",
    "all_xyz=[all_xyz[i] for i in non_nan_indices]\n",
    "\n",
    "data={\n",
    "    \"sequence\":train_sequences['sequence'].to_list(), # 문자열 시퀀스\n",
    "    \"temporal_cutoff\": train_sequences['temporal_cutoff'].to_list(),\n",
    "    \"description\": train_sequences['description'].to_list(),\n",
    "    \"all_sequences\": train_sequences['all_sequences'].to_list(),\n",
    "    \"xyz\": all_xyz # C1' 좌표 리스트\n",
    "}\n",
    "\n",
    "# Split data into train and test\n",
    "all_index = np.arange(len(data['sequence']))\n",
    "cutoff_date = pd.Timestamp(config['cutoff_date'])\n",
    "test_cutoff_date = pd.Timestamp(config['test_cutoff_date'])\n",
    "train_index = [i for i, d in enumerate(data['temporal_cutoff']) if pd.Timestamp(d) <= cutoff_date]\n",
    "test_index = [i for i, d in enumerate(data['temporal_cutoff']) if pd.Timestamp(d) > cutoff_date and pd.Timestamp(d) <= test_cutoff_date]\n",
    "\n",
    "print(f\"Train size: {len(train_index)}\")\n",
    "print(f\"Test size: {len(test_index)}\")\n"
   ]
  },
  {
   "cell_type": "code",
   "execution_count": 63,
   "id": "1c0b6460",
   "metadata": {},
   "outputs": [],
   "source": [
    "import torch"
   ]
  },
  {
   "cell_type": "code",
   "execution_count": 65,
   "id": "25caa64a",
   "metadata": {},
   "outputs": [],
   "source": [
    "xyz = torch.tensor(np.array(data['xyz'][0]), dtype=torch.float32)"
   ]
  },
  {
   "cell_type": "code",
   "execution_count": 66,
   "id": "5fb032b8",
   "metadata": {},
   "outputs": [
    {
     "data": {
      "text/plain": [
       "tensor([[187.1260, 148.2460, 210.4180],\n",
       "        [185.2560, 152.9680, 204.6180],\n",
       "        [189.3610, 161.8020, 205.2150],\n",
       "        [186.0000, 156.5960, 209.9520],\n",
       "        [181.9480, 158.1870, 213.6110],\n",
       "        [177.6460, 163.1810, 214.1600],\n",
       "        [173.8800, 167.3450, 211.8830],\n",
       "        [166.3370, 171.1260, 210.5930],\n",
       "        [168.3270, 176.5140, 206.1570],\n",
       "        [163.8160, 179.3390, 207.0560],\n",
       "        [160.1640, 182.8460, 207.7550],\n",
       "        [157.7920, 186.9150, 204.0880],\n",
       "        [157.1580, 189.0050, 198.6980],\n",
       "        [152.6600, 192.7810, 192.6450],\n",
       "        [157.7340, 192.8060, 187.8020],\n",
       "        [154.6840, 196.1220, 184.1260],\n",
       "        [153.8000, 200.2520, 181.3890],\n",
       "        [154.3120, 201.4030, 175.6690],\n",
       "        [155.5490, 199.9820, 170.5490],\n",
       "        [154.2110, 199.1620, 162.0550],\n",
       "        [160.1900, 195.0370, 161.3320],\n",
       "        [159.2910, 196.5100, 156.3580],\n",
       "        [161.0400, 197.1880, 150.4170],\n",
       "        [162.7890, 193.8730, 145.9970],\n",
       "        [163.7700, 188.6840, 143.8560],\n",
       "        [164.0690, 183.0630, 137.5840],\n",
       "        [166.5580, 177.6190, 141.2630],\n",
       "        [168.4600, 174.7620, 137.1560],\n",
       "        [170.4080, 172.2460, 133.3700],\n",
       "        [171.2670, 166.1940, 132.8940],\n",
       "        [170.0090, 160.9220, 134.3190],\n",
       "        [168.6330, 152.6700, 132.5930],\n",
       "        [167.9080, 151.1950, 139.8280],\n",
       "        [168.5690, 146.2600, 138.3830],\n",
       "        [168.7690, 140.6410, 138.8490],\n",
       "        [166.7880, 135.8800, 141.4790],\n",
       "        [162.4740, 133.5130, 145.1560],\n",
       "        [157.1610, 127.3850, 147.6890],\n",
       "        [154.4830, 131.3640, 152.9030],\n",
       "        [153.5040, 127.0770, 155.4940],\n",
       "        [154.9780, 124.7660, 158.5680],\n",
       "        [149.4040, 118.7020, 160.8570],\n",
       "        [148.3720, 126.7490, 161.3970],\n",
       "        [140.3450, 125.2040, 160.5410],\n",
       "        [141.7420, 122.1170, 168.2190],\n",
       "        [136.2230, 122.1050, 163.7230],\n",
       "        [130.4600, 120.3570, 163.2670],\n",
       "        [127.0650, 117.1300, 165.6300],\n",
       "        [125.4200, 113.3680, 169.1320],\n",
       "        [124.8570, 109.9700, 174.3040],\n",
       "        [124.8450, 112.0700, 179.2280],\n",
       "        [121.7500, 116.8660, 184.2490],\n",
       "        [126.8950, 117.3050, 184.0300],\n",
       "        [131.9270, 122.0070, 183.2080],\n",
       "        [132.6360, 114.4420, 185.1210],\n",
       "        [133.4760, 111.4080, 181.0590],\n",
       "        [132.5280, 109.0330, 176.0590],\n",
       "        [130.7980, 108.6990, 170.7550],\n",
       "        [129.8990, 110.0660, 165.3240],\n",
       "        [132.5300, 111.8510, 159.7490],\n",
       "        [     nan,      nan,      nan]])"
      ]
     },
     "execution_count": 66,
     "metadata": {},
     "output_type": "execute_result"
    }
   ],
   "source": [
    "xyz"
   ]
  },
  {
   "cell_type": "code",
   "execution_count": 70,
   "id": "b14439e3",
   "metadata": {},
   "outputs": [],
   "source": [
    "for i in range(len(xyz)):\n",
    "    if (~torch.isnan(xyz[i])).all():\n",
    "        break"
   ]
  },
  {
   "cell_type": "code",
   "execution_count": 71,
   "id": "ea9c63a6",
   "metadata": {},
   "outputs": [
    {
     "data": {
      "text/plain": [
       "0"
      ]
     },
     "execution_count": 71,
     "metadata": {},
     "output_type": "execute_result"
    }
   ],
   "source": [
    "i"
   ]
  },
  {
   "cell_type": "code",
   "execution_count": 72,
   "id": "0fe3c99e",
   "metadata": {},
   "outputs": [],
   "source": [
    "xyz = xyz - xyz[i]"
   ]
  },
  {
   "cell_type": "code",
   "execution_count": 73,
   "id": "1413dad1",
   "metadata": {},
   "outputs": [
    {
     "data": {
      "text/plain": [
       "tensor([[  0.0000,   0.0000,   0.0000],\n",
       "        [ -1.8700,   4.7220,  -5.8000],\n",
       "        [  2.2350,  13.5560,  -5.2030],\n",
       "        [ -1.1260,   8.3500,  -0.4660],\n",
       "        [ -5.1780,   9.9410,   3.1930],\n",
       "        [ -9.4800,  14.9350,   3.7420],\n",
       "        [-13.2460,  19.0990,   1.4650],\n",
       "        [-20.7890,  22.8800,   0.1750],\n",
       "        [-18.7990,  28.2680,  -4.2610],\n",
       "        [-23.3100,  31.0930,  -3.3620],\n",
       "        [-26.9620,  34.6000,  -2.6630],\n",
       "        [-29.3340,  38.6690,  -6.3300],\n",
       "        [-29.9680,  40.7590, -11.7200],\n",
       "        [-34.4660,  44.5350, -17.7730],\n",
       "        [-29.3920,  44.5600, -22.6160],\n",
       "        [-32.4420,  47.8760, -26.2920],\n",
       "        [-33.3260,  52.0060, -29.0290],\n",
       "        [-32.8140,  53.1570, -34.7490],\n",
       "        [-31.5770,  51.7360, -39.8690],\n",
       "        [-32.9150,  50.9160, -48.3630],\n",
       "        [-26.9360,  46.7910, -49.0860],\n",
       "        [-27.8350,  48.2640, -54.0600],\n",
       "        [-26.0860,  48.9420, -60.0010],\n",
       "        [-24.3370,  45.6270, -64.4210],\n",
       "        [-23.3560,  40.4380, -66.5620],\n",
       "        [-23.0570,  34.8170, -72.8340],\n",
       "        [-20.5680,  29.3730, -69.1550],\n",
       "        [-18.6660,  26.5160, -73.2620],\n",
       "        [-16.7180,  24.0000, -77.0480],\n",
       "        [-15.8590,  17.9480, -77.5240],\n",
       "        [-17.1170,  12.6760, -76.0990],\n",
       "        [-18.4930,   4.4240, -77.8250],\n",
       "        [-19.2180,   2.9490, -70.5900],\n",
       "        [-18.5570,  -1.9860, -72.0350],\n",
       "        [-18.3570,  -7.6050, -71.5690],\n",
       "        [-20.3380, -12.3660, -68.9390],\n",
       "        [-24.6520, -14.7330, -65.2620],\n",
       "        [-29.9650, -20.8610, -62.7290],\n",
       "        [-32.6430, -16.8820, -57.5150],\n",
       "        [-33.6220, -21.1690, -54.9240],\n",
       "        [-32.1480, -23.4800, -51.8500],\n",
       "        [-37.7220, -29.5440, -49.5610],\n",
       "        [-38.7540, -21.4970, -49.0210],\n",
       "        [-46.7810, -23.0420, -49.8770],\n",
       "        [-45.3840, -26.1290, -42.1990],\n",
       "        [-50.9030, -26.1410, -46.6950],\n",
       "        [-56.6660, -27.8890, -47.1510],\n",
       "        [-60.0610, -31.1160, -44.7880],\n",
       "        [-61.7060, -34.8780, -41.2860],\n",
       "        [-62.2690, -38.2760, -36.1140],\n",
       "        [-62.2810, -36.1760, -31.1900],\n",
       "        [-65.3760, -31.3800, -26.1690],\n",
       "        [-60.2310, -30.9410, -26.3880],\n",
       "        [-55.1990, -26.2390, -27.2100],\n",
       "        [-54.4900, -33.8040, -25.2970],\n",
       "        [-53.6500, -36.8380, -29.3590],\n",
       "        [-54.5980, -39.2130, -34.3590],\n",
       "        [-56.3280, -39.5470, -39.6630],\n",
       "        [-57.2270, -38.1800, -45.0940],\n",
       "        [-54.5960, -36.3950, -50.6690],\n",
       "        [     nan,      nan,      nan]])"
      ]
     },
     "execution_count": 73,
     "metadata": {},
     "output_type": "execute_result"
    }
   ],
   "source": [
    "xyz"
   ]
  },
  {
   "cell_type": "code",
   "execution_count": null,
   "id": "41725654",
   "metadata": {},
   "outputs": [],
   "source": []
  }
 ],
 "metadata": {
  "kernelspec": {
   "display_name": "Python 3 (ipykernel)",
   "language": "python",
   "name": "python3"
  },
  "language_info": {
   "codemirror_mode": {
    "name": "ipython",
    "version": 3
   },
   "file_extension": ".py",
   "mimetype": "text/x-python",
   "name": "python",
   "nbconvert_exporter": "python",
   "pygments_lexer": "ipython3",
   "version": "3.10.13"
  }
 },
 "nbformat": 4,
 "nbformat_minor": 5
}
